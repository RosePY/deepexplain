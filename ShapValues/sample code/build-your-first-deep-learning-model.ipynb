{
 "cells": [
  {
   "cell_type": "markdown",
   "metadata": {
    "id": "tmHsf5DWsxr6",
    "papermill": {
     "duration": 0.051194,
     "end_time": "2020-09-20T09:46:11.952948",
     "exception": false,
     "start_time": "2020-09-20T09:46:11.901754",
     "status": "completed"
    },
    "tags": []
   },
   "source": [
    "# Agenda\n",
    "1. About the Dataset\n",
    "2. Objective\n",
    "3. Loading Libraries\n",
    "4. Loading Data\n",
    "5. View Data\n",
    "6. Separate Input Features and Output Features\n",
    "7. Split The Data into Train and Test Set\n",
    "8. Train the model (The five step model life cycle)\n",
    "  1. Define the model.\n",
    "  2. Compile the model.\n",
    "  3. Fit the model.\n",
    "  4. Evaluate the model\n",
    "    * Hyperparameter Tunning\n",
    "  5. Prediction"
   ]
  },
  {
   "cell_type": "markdown",
   "metadata": {
    "id": "NmP7x85xcxkS",
    "papermill": {
     "duration": 0.05198,
     "end_time": "2020-09-20T09:46:12.053115",
     "exception": false,
     "start_time": "2020-09-20T09:46:12.001135",
     "status": "completed"
    },
    "tags": []
   },
   "source": [
    "## About the Dataset\n",
    "We will be working on a data set that comes from the real estate industry in Boston (US). This database contains 14 attributes. The target variable refers to the median value of owner-occupied homes in 1000 USD's.\n",
    "\n",
    "* CRIM: per capita crime rate by town\n",
    "* ZN: proportion of residential land zoned for lots over 25,000 sq.ft.\n",
    "* INDUS: proportion of non-retail business acres per town\n",
    "* CHAS: Charles River dummy variable (= 1 if tract bounds river; 0 otherwise)\n",
    "* NOX: nitric oxides concentration (parts per 10 million)\n",
    "* RM: average number of rooms per dwelling\n",
    "* AGE: proportion of owner-occupied units built prior to 1940\n",
    "* DIS: weighted distances to five Boston employment centres\n",
    "* RAD: index of accessibility to radial highways\n",
    "* TAX: full-value property-tax rate per 10,000 USD\n",
    "* PTRATIO: pupil-teacher ratio by town\n",
    "* B: 1000(Bk - 0.63)^2 where Bk is the proportion of blacks by town\n",
    "* LSTAT: lower status of the population (%)\n",
    "* MEDV: Median value of owner-occupied homes in 1000 USD's (Target)\n"
   ]
  },
  {
   "cell_type": "markdown",
   "metadata": {
    "id": "w_c7y3fqWuDX",
    "papermill": {
     "duration": 0.04976,
     "end_time": "2020-09-20T09:46:12.153008",
     "exception": false,
     "start_time": "2020-09-20T09:46:12.103248",
     "status": "completed"
    },
    "tags": []
   },
   "source": [
    "## Objective\n",
    "The objective is to use linear regression to find the median value of owner-occupied homes in 1000 USD's.\n",
    "\n",
    "We will build a Machine learning model (i.e. Linear Regression) using `tensorflow.keras` (in short `tf.keras`) API."
   ]
  },
  {
   "cell_type": "markdown",
   "metadata": {
    "id": "PQeegjzCbXdf",
    "papermill": {
     "duration": 0.046067,
     "end_time": "2020-09-20T09:46:12.247644",
     "exception": false,
     "start_time": "2020-09-20T09:46:12.201577",
     "status": "completed"
    },
    "tags": []
   },
   "source": [
    "## Loading Libraries\n",
    "All Python capabilities are not loaded to our working environment by default (even they are already installed in your system). So, we import each and every library that we want to use.\n",
    "\n",
    "In data science, numpy and pandas are most commonly used libraries. Numpy is required for calculations like means, medians, square roots, etc. Pandas is used for data processing and data frames. Matplotlib is used for data visualization. We chose alias names for our libraries for the sake of our convenience (numpy --> np and pandas --> pd, matplotlib.pyplot as plt).\n",
    "\n",
    "**pyplot:** pyplot is matplotlib's plotting framework. It is the most used module of matplotlib."
   ]
  },
  {
   "cell_type": "code",
   "execution_count": 1,
   "metadata": {
    "execution": {
     "iopub.execute_input": "2020-09-20T09:46:12.349110Z",
     "iopub.status.busy": "2020-09-20T09:46:12.348158Z",
     "iopub.status.idle": "2020-09-20T09:46:12.353076Z",
     "shell.execute_reply": "2020-09-20T09:46:12.352415Z"
    },
    "id": "UEWLuXd7BMrU",
    "papermill": {
     "duration": 0.058709,
     "end_time": "2020-09-20T09:46:12.353215",
     "exception": false,
     "start_time": "2020-09-20T09:46:12.294506",
     "status": "completed"
    },
    "tags": []
   },
   "outputs": [],
   "source": [
    "# importing packages\n",
    "import numpy as np # to perform calculations \n",
    "import pandas as pd # to read data\n",
    "import matplotlib.pyplot as plt # to visualise"
   ]
  },
  {
   "cell_type": "markdown",
   "metadata": {
    "id": "fY_eewx0dhHt",
    "papermill": {
     "duration": 0.045128,
     "end_time": "2020-09-20T09:46:12.446153",
     "exception": false,
     "start_time": "2020-09-20T09:46:12.401025",
     "status": "completed"
    },
    "tags": []
   },
   "source": [
    "## Loading Data\n",
    "Pandas module is used for reading files. We have our data in '.csv' format. We will use 'read_csv()' function for loading the data."
   ]
  },
  {
   "cell_type": "code",
   "execution_count": 2,
   "metadata": {
    "execution": {
     "iopub.execute_input": "2020-09-20T09:46:12.560659Z",
     "iopub.status.busy": "2020-09-20T09:46:12.543828Z",
     "iopub.status.idle": "2020-09-20T09:46:13.412707Z",
     "shell.execute_reply": "2020-09-20T09:46:13.412096Z"
    },
    "id": "7zlSaTd2W9rt",
    "papermill": {
     "duration": 0.920676,
     "end_time": "2020-09-20T09:46:13.412860",
     "exception": false,
     "start_time": "2020-09-20T09:46:12.492184",
     "status": "completed"
    },
    "tags": []
   },
   "outputs": [],
   "source": [
    "# In read_csv() function, we have passed the location to where the file is located at dphi official github page\n",
    "boston_data = pd.read_csv(\"https://raw.githubusercontent.com/dphi-official/Datasets/master/Boston_Housing/Training_set_boston.csv\" )"
   ]
  },
  {
   "cell_type": "markdown",
   "metadata": {
    "id": "wze8jmpKtBG4",
    "papermill": {
     "duration": 0.046371,
     "end_time": "2020-09-20T09:46:13.504634",
     "exception": false,
     "start_time": "2020-09-20T09:46:13.458263",
     "status": "completed"
    },
    "tags": []
   },
   "source": [
    "## View Data"
   ]
  },
  {
   "cell_type": "code",
   "execution_count": 3,
   "metadata": {
    "execution": {
     "iopub.execute_input": "2020-09-20T09:46:13.618053Z",
     "iopub.status.busy": "2020-09-20T09:46:13.612485Z",
     "iopub.status.idle": "2020-09-20T09:46:13.635298Z",
     "shell.execute_reply": "2020-09-20T09:46:13.635908Z"
    },
    "id": "Nwj5kkDjjQkx",
    "outputId": "0a69f714-5724-4ec9-856c-82f7e619b4a5",
    "papermill": {
     "duration": 0.085649,
     "end_time": "2020-09-20T09:46:13.636065",
     "exception": false,
     "start_time": "2020-09-20T09:46:13.550416",
     "status": "completed"
    },
    "tags": []
   },
   "outputs": [
    {
     "data": {
      "text/html": [
       "<div>\n",
       "<style scoped>\n",
       "    .dataframe tbody tr th:only-of-type {\n",
       "        vertical-align: middle;\n",
       "    }\n",
       "\n",
       "    .dataframe tbody tr th {\n",
       "        vertical-align: top;\n",
       "    }\n",
       "\n",
       "    .dataframe thead th {\n",
       "        text-align: right;\n",
       "    }\n",
       "</style>\n",
       "<table border=\"1\" class=\"dataframe\">\n",
       "  <thead>\n",
       "    <tr style=\"text-align: right;\">\n",
       "      <th></th>\n",
       "      <th>CRIM</th>\n",
       "      <th>ZN</th>\n",
       "      <th>INDUS</th>\n",
       "      <th>CHAS</th>\n",
       "      <th>NOX</th>\n",
       "      <th>RM</th>\n",
       "      <th>AGE</th>\n",
       "      <th>DIS</th>\n",
       "      <th>RAD</th>\n",
       "      <th>TAX</th>\n",
       "      <th>PTRATIO</th>\n",
       "      <th>B</th>\n",
       "      <th>LSTAT</th>\n",
       "      <th>MEDV</th>\n",
       "    </tr>\n",
       "  </thead>\n",
       "  <tbody>\n",
       "    <tr>\n",
       "      <th>0</th>\n",
       "      <td>15.02340</td>\n",
       "      <td>0.0</td>\n",
       "      <td>18.10</td>\n",
       "      <td>0.0</td>\n",
       "      <td>0.6140</td>\n",
       "      <td>5.304</td>\n",
       "      <td>97.3</td>\n",
       "      <td>2.1007</td>\n",
       "      <td>24.0</td>\n",
       "      <td>666.0</td>\n",
       "      <td>20.2</td>\n",
       "      <td>349.48</td>\n",
       "      <td>24.91</td>\n",
       "      <td>12.0</td>\n",
       "    </tr>\n",
       "    <tr>\n",
       "      <th>1</th>\n",
       "      <td>0.62739</td>\n",
       "      <td>0.0</td>\n",
       "      <td>8.14</td>\n",
       "      <td>0.0</td>\n",
       "      <td>0.5380</td>\n",
       "      <td>5.834</td>\n",
       "      <td>56.5</td>\n",
       "      <td>4.4986</td>\n",
       "      <td>4.0</td>\n",
       "      <td>307.0</td>\n",
       "      <td>21.0</td>\n",
       "      <td>395.62</td>\n",
       "      <td>8.47</td>\n",
       "      <td>19.9</td>\n",
       "    </tr>\n",
       "    <tr>\n",
       "      <th>2</th>\n",
       "      <td>0.03466</td>\n",
       "      <td>35.0</td>\n",
       "      <td>6.06</td>\n",
       "      <td>0.0</td>\n",
       "      <td>0.4379</td>\n",
       "      <td>6.031</td>\n",
       "      <td>23.3</td>\n",
       "      <td>6.6407</td>\n",
       "      <td>1.0</td>\n",
       "      <td>304.0</td>\n",
       "      <td>16.9</td>\n",
       "      <td>362.25</td>\n",
       "      <td>7.83</td>\n",
       "      <td>19.4</td>\n",
       "    </tr>\n",
       "    <tr>\n",
       "      <th>3</th>\n",
       "      <td>7.05042</td>\n",
       "      <td>0.0</td>\n",
       "      <td>18.10</td>\n",
       "      <td>0.0</td>\n",
       "      <td>0.6140</td>\n",
       "      <td>6.103</td>\n",
       "      <td>85.1</td>\n",
       "      <td>2.0218</td>\n",
       "      <td>24.0</td>\n",
       "      <td>666.0</td>\n",
       "      <td>20.2</td>\n",
       "      <td>2.52</td>\n",
       "      <td>23.29</td>\n",
       "      <td>13.4</td>\n",
       "    </tr>\n",
       "    <tr>\n",
       "      <th>4</th>\n",
       "      <td>0.72580</td>\n",
       "      <td>0.0</td>\n",
       "      <td>8.14</td>\n",
       "      <td>0.0</td>\n",
       "      <td>0.5380</td>\n",
       "      <td>5.727</td>\n",
       "      <td>69.5</td>\n",
       "      <td>3.7965</td>\n",
       "      <td>4.0</td>\n",
       "      <td>307.0</td>\n",
       "      <td>21.0</td>\n",
       "      <td>390.95</td>\n",
       "      <td>11.28</td>\n",
       "      <td>18.2</td>\n",
       "    </tr>\n",
       "  </tbody>\n",
       "</table>\n",
       "</div>"
      ],
      "text/plain": [
       "       CRIM    ZN  INDUS  CHAS     NOX     RM   AGE     DIS   RAD    TAX  \\\n",
       "0  15.02340   0.0  18.10   0.0  0.6140  5.304  97.3  2.1007  24.0  666.0   \n",
       "1   0.62739   0.0   8.14   0.0  0.5380  5.834  56.5  4.4986   4.0  307.0   \n",
       "2   0.03466  35.0   6.06   0.0  0.4379  6.031  23.3  6.6407   1.0  304.0   \n",
       "3   7.05042   0.0  18.10   0.0  0.6140  6.103  85.1  2.0218  24.0  666.0   \n",
       "4   0.72580   0.0   8.14   0.0  0.5380  5.727  69.5  3.7965   4.0  307.0   \n",
       "\n",
       "   PTRATIO       B  LSTAT  MEDV  \n",
       "0     20.2  349.48  24.91  12.0  \n",
       "1     21.0  395.62   8.47  19.9  \n",
       "2     16.9  362.25   7.83  19.4  \n",
       "3     20.2    2.52  23.29  13.4  \n",
       "4     21.0  390.95  11.28  18.2  "
      ]
     },
     "execution_count": 3,
     "metadata": {},
     "output_type": "execute_result"
    }
   ],
   "source": [
    "boston_data.head()"
   ]
  },
  {
   "cell_type": "markdown",
   "metadata": {
    "id": "DBv1fy29jAzm",
    "papermill": {
     "duration": 0.047101,
     "end_time": "2020-09-20T09:46:13.730133",
     "exception": false,
     "start_time": "2020-09-20T09:46:13.683032",
     "status": "completed"
    },
    "tags": []
   },
   "source": [
    "# Separating Input Features and Output Features\n",
    "Before building any machine learning model, we always separate the input variables and output variables. Input variables are those quantities whose values are changed naturally in an experiment, whereas output variable is the one whose values are dependent on the input variables. So, input variables are also known as independent variables as its values are not dependent on any other quantity, and output variable/s are also known as dependent variables as its values are dependent on other variable i.e. input variables. Like here in this data, we are trying to predict the price of a houce, so this is our target column i.e. 'MEDV'\n",
    "\n",
    "By convention input variables are represented with 'X' and output variables are represented with 'y'."
   ]
  },
  {
   "cell_type": "code",
   "execution_count": 4,
   "metadata": {
    "execution": {
     "iopub.execute_input": "2020-09-20T09:46:13.837248Z",
     "iopub.status.busy": "2020-09-20T09:46:13.836294Z",
     "iopub.status.idle": "2020-09-20T09:46:13.839495Z",
     "shell.execute_reply": "2020-09-20T09:46:13.838880Z"
    },
    "id": "ErMptop0jyng",
    "papermill": {
     "duration": 0.06249,
     "end_time": "2020-09-20T09:46:13.839618",
     "exception": false,
     "start_time": "2020-09-20T09:46:13.777128",
     "status": "completed"
    },
    "tags": []
   },
   "outputs": [],
   "source": [
    "X = boston_data.drop('MEDV', axis = 1)    # Input Variables/features\n",
    "y = boston_data.MEDV      # output variables/features"
   ]
  },
  {
   "cell_type": "markdown",
   "metadata": {
    "id": "QgXPagiS3YKz",
    "papermill": {
     "duration": 0.050284,
     "end_time": "2020-09-20T09:46:13.936935",
     "exception": false,
     "start_time": "2020-09-20T09:46:13.886651",
     "status": "completed"
    },
    "tags": []
   },
   "source": [
    "# Splitting the data"
   ]
  },
  {
   "cell_type": "markdown",
   "metadata": {
    "id": "4vOkLlB-Ukjn",
    "papermill": {
     "duration": 0.068259,
     "end_time": "2020-09-20T09:46:14.060655",
     "exception": false,
     "start_time": "2020-09-20T09:46:13.992396",
     "status": "completed"
    },
    "tags": []
   },
   "source": [
    "We want to check the performance of the model that we built. For this purpose, we always split (both input and output data) the given data into training set which will be used to train the model, and test set which will be used to check how accurately the model is predicting outcomes.\n",
    "\n",
    "For this purpose we have a class called 'train_test_split' in the 'sklearn.model_selection' module.\n",
    "\n",
    "We split 80% of the data to the training set while 20% of the data to test set using below code.\n",
    "The test_size variable is where we actually specify the proportion of the test set.\n",
    "\n",
    "By passing our X and y variables into the train_test_split method, we are able to capture the splits in data by assigning 4 variables to the result."
   ]
  },
  {
   "cell_type": "code",
   "execution_count": 5,
   "metadata": {
    "execution": {
     "iopub.execute_input": "2020-09-20T09:46:14.183268Z",
     "iopub.status.busy": "2020-09-20T09:46:14.182376Z",
     "iopub.status.idle": "2020-09-20T09:46:15.465128Z",
     "shell.execute_reply": "2020-09-20T09:46:15.464411Z"
    },
    "id": "1a1OFJmpUl2u",
    "papermill": {
     "duration": 1.342244,
     "end_time": "2020-09-20T09:46:15.465258",
     "exception": false,
     "start_time": "2020-09-20T09:46:14.123014",
     "status": "completed"
    },
    "tags": []
   },
   "outputs": [],
   "source": [
    "# import train_test_split\n",
    "from sklearn.model_selection import train_test_split \n",
    "\n",
    "# Assign variables to capture train test split output\n",
    "X_train, X_test, y_train, y_test = train_test_split(X, y, test_size=0.2, random_state=42)\n",
    "\n",
    "# X_train: independent/input feature data for training the model\n",
    "# y_train: dependent/output feature data for training the model\n",
    "# X_test: independent/input feature data for testing the model; will be used to predict the output values\n",
    "# y_test: original dependent/output values of X_test; We will compare this values with our predicted values to check the performance of our built model.\n",
    " \n",
    "# test_size = 0.20: 20% of the data will go for test set and 70% of the data will go for train set\n",
    "# random_state = 42: this will fix the split i.e. there will be same split for each time you run the code"
   ]
  },
  {
   "cell_type": "code",
   "execution_count": 6,
   "metadata": {
    "execution": {
     "iopub.execute_input": "2020-09-20T09:46:15.567014Z",
     "iopub.status.busy": "2020-09-20T09:46:15.566124Z",
     "iopub.status.idle": "2020-09-20T09:46:15.570124Z",
     "shell.execute_reply": "2020-09-20T09:46:15.569502Z"
    },
    "id": "UfKNjpJqkPUf",
    "outputId": "560f2f83-590b-4d7b-fda7-96d0c3ad8224",
    "papermill": {
     "duration": 0.057513,
     "end_time": "2020-09-20T09:46:15.570268",
     "exception": false,
     "start_time": "2020-09-20T09:46:15.512755",
     "status": "completed"
    },
    "tags": []
   },
   "outputs": [
    {
     "name": "stdout",
     "output_type": "stream",
     "text": [
      "13\n"
     ]
    }
   ],
   "source": [
    "# find the number of input features\n",
    "n_features = X.shape[1]\n",
    "print(n_features)"
   ]
  },
  {
   "cell_type": "markdown",
   "metadata": {
    "id": "CwotIN0AU3Ci",
    "papermill": {
     "duration": 0.046871,
     "end_time": "2020-09-20T09:46:15.664320",
     "exception": false,
     "start_time": "2020-09-20T09:46:15.617449",
     "status": "completed"
    },
    "tags": []
   },
   "source": [
    "# Training our model\n"
   ]
  },
  {
   "cell_type": "markdown",
   "metadata": {
    "id": "5EV_0iiBMBz6",
    "papermill": {
     "duration": 0.047225,
     "end_time": "2020-09-20T09:46:15.760480",
     "exception": false,
     "start_time": "2020-09-20T09:46:15.713255",
     "status": "completed"
    },
    "tags": []
   },
   "source": [
    "After splitting the data into training and testing sets, it's time to train our first deep learning model. Wait! Before training the deep learning model, let's understand the **Deep Learning Model Life-Cycle**."
   ]
  },
  {
   "cell_type": "markdown",
   "metadata": {
    "id": "j3XXW9NL6H4s",
    "papermill": {
     "duration": 0.048406,
     "end_time": "2020-09-20T09:46:15.858227",
     "exception": false,
     "start_time": "2020-09-20T09:46:15.809821",
     "status": "completed"
    },
    "tags": []
   },
   "source": [
    "## Neural Network: Architecture\n",
    "Here we are giving you just an overview of the architecture of Neural Network. You will know more about it in next module.\n",
    "\n",
    "Neural Networks consists of an input and output layer with one or more hidden layers.\n",
    "\n",
    "![neural network architecture](https://dphi-courses.s3.ap-south-1.amazonaws.com/Deep+Learning+Bootcamp/nn+arch.png)"
   ]
  },
  {
   "cell_type": "markdown",
   "metadata": {
    "id": "Ymbh14OgMu2Z",
    "papermill": {
     "duration": 0.048755,
     "end_time": "2020-09-20T09:46:15.955164",
     "exception": false,
     "start_time": "2020-09-20T09:46:15.906409",
     "status": "completed"
    },
    "tags": []
   },
   "source": [
    "## The 5 Step Model Life-Cycle\n",
    "\n",
    "A model has a life-cycle, and this very simple knowledge provides the backbone for both modeling a dataset and understanding the tf.keras API.\n",
    "\n",
    "The five steps in the life-cycle are as follows:\n",
    "\n",
    "1. Define the model.\n",
    "2. Compile the model.\n",
    "3. Fit the model.\n",
    "4. Make predictions on the test data.\n",
    "5. Evaluate the model.\n",
    "\n",
    "We will take closer look into each of the steps and parallely build the deep learning model."
   ]
  },
  {
   "cell_type": "markdown",
   "metadata": {
    "id": "auQ5lPFrN7GN",
    "papermill": {
     "duration": 0.049391,
     "end_time": "2020-09-20T09:46:16.052465",
     "exception": false,
     "start_time": "2020-09-20T09:46:16.003074",
     "status": "completed"
    },
    "tags": []
   },
   "source": [
    "### 1. Define the model\n",
    "Defining the model requires that you first select the type of model that you need and then choose the architecture or network topology.\n",
    "\n",
    "From an API perspective, this involves defining the layers of the model, configuring each layer with a number of nodes and activation function, and connecting the layers together into a cohesive model.\n",
    "\n",
    "Models can be defined either with the Sequential API or the Functional API (you will know this in later modules). Here we will define the model with Sequential API. Now **what is Sequential API?**\n",
    "\n",
    "**Sequential API**\n",
    "The sequential API is the simplest API to get started with Deep Learning. \n",
    "\n",
    "It is referred to as “sequential” because it involves defining a Sequential class and adding layers to the model one by one in a linear manner, from input to output.\n",
    "\n",
    "The example below defines a Sequential MLP model that accepts one input (i.e. 'YearsExperience'), has one hidden layer with 1 node and then an output layer with one node to predict a numerical value.\n",
    "\n"
   ]
  },
  {
   "cell_type": "code",
   "execution_count": 7,
   "metadata": {
    "execution": {
     "iopub.execute_input": "2020-09-20T09:46:16.156700Z",
     "iopub.status.busy": "2020-09-20T09:46:16.155934Z",
     "iopub.status.idle": "2020-09-20T09:46:23.172330Z",
     "shell.execute_reply": "2020-09-20T09:46:23.171544Z"
    },
    "id": "JY303RWVPzkD",
    "papermill": {
     "duration": 7.070732,
     "end_time": "2020-09-20T09:46:23.172459",
     "exception": false,
     "start_time": "2020-09-20T09:46:16.101727",
     "status": "completed"
    },
    "tags": []
   },
   "outputs": [],
   "source": [
    "from tensorflow.keras import Sequential    # import Sequential from tensorflow.keras\n",
    "from tensorflow.keras.layers import Dense  # import Dense from tensorflow.keras.layers\n",
    "from numpy.random import seed     # seed helps you to fix the randomness in the neural network.  \n",
    "import tensorflow"
   ]
  },
  {
   "cell_type": "code",
   "execution_count": 8,
   "metadata": {
    "execution": {
     "iopub.execute_input": "2020-09-20T09:46:23.275739Z",
     "iopub.status.busy": "2020-09-20T09:46:23.274977Z",
     "iopub.status.idle": "2020-09-20T09:46:23.436761Z",
     "shell.execute_reply": "2020-09-20T09:46:23.436123Z"
    },
    "id": "mMDrQE9gQP6U",
    "papermill": {
     "duration": 0.216923,
     "end_time": "2020-09-20T09:46:23.436939",
     "exception": false,
     "start_time": "2020-09-20T09:46:23.220016",
     "status": "completed"
    },
    "tags": []
   },
   "outputs": [],
   "source": [
    "# define the model\n",
    "model = Sequential()\n",
    "model.add(Dense(10, activation='relu', input_shape=(n_features,)))\n",
    "model.add(Dense(8, activation='relu'))\n",
    "model.add(Dense(1))"
   ]
  },
  {
   "cell_type": "markdown",
   "metadata": {
    "id": "93ntHsm1QnLP",
    "papermill": {
     "duration": 0.047769,
     "end_time": "2020-09-20T09:46:23.532771",
     "exception": false,
     "start_time": "2020-09-20T09:46:23.485002",
     "status": "completed"
    },
    "tags": []
   },
   "source": [
    "Note that the visible layer of the network is defined by the “input_shape” argument on the first hidden layer. That means in the above example, the model expects the input for one sample to be a vector of n_features (i.e. 13) number . \n",
    "\n",
    "The sequential API is easy to use because you keep calling model.add() until you have added all of your layers."
   ]
  },
  {
   "cell_type": "markdown",
   "metadata": {
    "id": "ABBhVYtXRlJq",
    "papermill": {
     "duration": 0.047107,
     "end_time": "2020-09-20T09:46:23.627155",
     "exception": false,
     "start_time": "2020-09-20T09:46:23.580048",
     "status": "completed"
    },
    "tags": []
   },
   "source": [
    "The activation function we have chosen is **ReLU**, which stands for **rectified linear unit**. Activation function decides, whether a neuron should be activated or not\n",
    "\n",
    "ReLU is defined mathematically as **F(x) = max(0,x)**. In other words, the output is x, if x is greater than 0, and the output is 0 if x is 0 or negative."
   ]
  },
  {
   "cell_type": "markdown",
   "metadata": {
    "id": "D100gBMQSTn8",
    "papermill": {
     "duration": 0.047648,
     "end_time": "2020-09-20T09:46:23.722270",
     "exception": false,
     "start_time": "2020-09-20T09:46:23.674622",
     "status": "completed"
    },
    "tags": []
   },
   "source": [
    "### 2. Compile the model\n",
    "Compiling the model requires that you first select a loss function that you want to optimize, such as mean squared error or cross-entropy.\n",
    "\n",
    "It also requires that you select an algorithm to perform the optimization procedure. We’re using **RMSprop** as our optimizer here. RMSprop stands for **Root Mean Square Propagation**. It’s one of the most popular gradient descent optimization algorithms for deep learning networks. RMSprop is an optimizer that’s reliable and fast. \n",
    "\n",
    "**Note:** For the time being understand gradient descent as just an optimization algorithm. You will know more about it in the next module.\n",
    "\n",
    "It may also require that you select any performance metrics to keep track of during the model training process. The loss function used here is **mean squared error.** (don't worry if you don't know about the loss function mean squared error, for the time being just know it's a function that helps you know the error or loss your model is giving. You will learn more about loss functions in the coming modules)\n",
    "\n",
    "From an API perspective, this involves calling a function to compile the model with the chosen configuration, which will prepare the appropriate data structures required for the efficient use of the model you have defined."
   ]
  },
  {
   "cell_type": "code",
   "execution_count": 9,
   "metadata": {
    "execution": {
     "iopub.execute_input": "2020-09-20T09:46:23.823424Z",
     "iopub.status.busy": "2020-09-20T09:46:23.822638Z",
     "iopub.status.idle": "2020-09-20T09:46:23.825997Z",
     "shell.execute_reply": "2020-09-20T09:46:23.825223Z"
    },
    "id": "doYNy1jJQa7J",
    "papermill": {
     "duration": 0.056159,
     "end_time": "2020-09-20T09:46:23.826125",
     "exception": false,
     "start_time": "2020-09-20T09:46:23.769966",
     "status": "completed"
    },
    "tags": []
   },
   "outputs": [],
   "source": [
    "# import RMSprop optimizer\n",
    "from tensorflow.keras.optimizers import RMSprop\n",
    "optimizer = RMSprop(0.01)    # 0.01 is the learning rate"
   ]
  },
  {
   "cell_type": "markdown",
   "metadata": {
    "id": "AiOzHe6K8iaM",
    "papermill": {
     "duration": 0.047978,
     "end_time": "2020-09-20T09:46:23.922274",
     "exception": false,
     "start_time": "2020-09-20T09:46:23.874296",
     "status": "completed"
    },
    "tags": []
   },
   "source": [
    "**Why learning rate = 0.01?**\n",
    "\n",
    "It is important to find a good value for the learning rate for your model on your training dataset. we cannot analytically calculate the optimal learning rate for a given model on a given dataset. Instead, a good (or good enough) learning rate must be discovered via trial and error.\n",
    "\n",
    "The range of values to consider for the learning rate is less than 1.0 and greater than $10^{-6}$.\n",
    "\n",
    "A traditional default value for the learning rate is 0.1 or 0.01, and this may represent a good starting point on your problem."
   ]
  },
  {
   "cell_type": "code",
   "execution_count": 10,
   "metadata": {
    "execution": {
     "iopub.execute_input": "2020-09-20T09:46:24.034549Z",
     "iopub.status.busy": "2020-09-20T09:46:24.033763Z",
     "iopub.status.idle": "2020-09-20T09:46:24.041681Z",
     "shell.execute_reply": "2020-09-20T09:46:24.041035Z"
    },
    "id": "gNxnRf2uUqev",
    "papermill": {
     "duration": 0.069768,
     "end_time": "2020-09-20T09:46:24.041833",
     "exception": false,
     "start_time": "2020-09-20T09:46:23.972065",
     "status": "completed"
    },
    "tags": []
   },
   "outputs": [],
   "source": [
    "model.compile(loss='mean_squared_error',optimizer=optimizer)    # compile the model"
   ]
  },
  {
   "cell_type": "markdown",
   "metadata": {
    "id": "GQPPF22pVHMU",
    "papermill": {
     "duration": 0.047544,
     "end_time": "2020-09-20T09:46:24.138299",
     "exception": false,
     "start_time": "2020-09-20T09:46:24.090755",
     "status": "completed"
    },
    "tags": []
   },
   "source": [
    "### 3. Fitting the model\n",
    "Fitting the model requires that you first select the training configuration, such as the number of epochs (loops through the training dataset) and the batch size (number of samples in an epoch used to estimate model error).\n",
    "\n",
    "Training applies the chosen optimization algorithm to minimize the chosen loss function and updates the model using the backpropagation (don't worry if you don't know this term, you will know it in the next module) of error algorithm.\n",
    "\n",
    "Fitting the model is the slow part of the whole process and can take seconds to hours to days, depending on the complexity of the model, the hardware you’re using, and the size of the training dataset.\n",
    "\n",
    "From an API perspective, this involves calling a function to perform the training process. This function will block (not return) until the training process has finished.\n",
    "\n",
    "While fitting the model, a progress bar will summarize the status of each epoch and the overall training process."
   ]
  },
  {
   "cell_type": "code",
   "execution_count": 11,
   "metadata": {
    "execution": {
     "iopub.execute_input": "2020-09-20T09:46:24.247197Z",
     "iopub.status.busy": "2020-09-20T09:46:24.246327Z",
     "iopub.status.idle": "2020-09-20T09:46:25.298527Z",
     "shell.execute_reply": "2020-09-20T09:46:25.299236Z"
    },
    "id": "WnG7pev1UxNs",
    "outputId": "291a66d5-71bb-49db-d7e3-a19b843977e0",
    "papermill": {
     "duration": 1.112053,
     "end_time": "2020-09-20T09:46:25.299415",
     "exception": false,
     "start_time": "2020-09-20T09:46:24.187362",
     "status": "completed"
    },
    "tags": []
   },
   "outputs": [
    {
     "name": "stdout",
     "output_type": "stream",
     "text": [
      "Epoch 1/10\n",
      "11/11 [==============================] - 0s 2ms/step - loss: 313.7656\n",
      "Epoch 2/10\n",
      "11/11 [==============================] - 0s 1ms/step - loss: 104.6032\n",
      "Epoch 3/10\n",
      "11/11 [==============================] - 0s 1ms/step - loss: 147.8395\n",
      "Epoch 4/10\n",
      "11/11 [==============================] - 0s 1ms/step - loss: 138.2674\n",
      "Epoch 5/10\n",
      "11/11 [==============================] - 0s 1ms/step - loss: 128.3143\n",
      "Epoch 6/10\n",
      "11/11 [==============================] - 0s 1ms/step - loss: 98.0706\n",
      "Epoch 7/10\n",
      "11/11 [==============================] - 0s 1ms/step - loss: 102.0423\n",
      "Epoch 8/10\n",
      "11/11 [==============================] - 0s 1ms/step - loss: 101.8649\n",
      "Epoch 9/10\n",
      "11/11 [==============================] - 0s 1ms/step - loss: 84.2111\n",
      "Epoch 10/10\n",
      "11/11 [==============================] - 0s 1ms/step - loss: 102.5453\n"
     ]
    },
    {
     "data": {
      "text/plain": [
       "<tensorflow.python.keras.callbacks.History at 0x7fa11051fcd0>"
      ]
     },
     "execution_count": 11,
     "metadata": {},
     "output_type": "execute_result"
    }
   ],
   "source": [
    "seed_value = 42\n",
    "seed(seed_value)        # If you build the model with given parameters, set_random_seed will help you produce the same result on multiple execution\n",
    "\n",
    "\n",
    "# Recommended by Keras -------------------------------------------------------------------------------------\n",
    "# 1. Set `PYTHONHASHSEED` environment variable at a fixed value\n",
    "import os\n",
    "os.environ['PYTHONHASHSEED']=str(seed_value)\n",
    "\n",
    "# 2. Set `python` built-in pseudo-random generator at a fixed value\n",
    "import random\n",
    "random.seed(seed_value)\n",
    "\n",
    "# 3. Set `numpy` pseudo-random generator at a fixed value\n",
    "import numpy as np\n",
    "np.random.seed(seed_value)\n",
    "# Recommended by Keras -------------------------------------------------------------------------------------\n",
    "\n",
    "\n",
    "# 4. Set the `tensorflow` pseudo-random generator at a fixed value\n",
    "tensorflow.random.set_seed(seed_value) \n",
    "model.fit(X_train, y_train, epochs=10, batch_size=30, verbose = 1)"
   ]
  },
  {
   "cell_type": "markdown",
   "metadata": {
    "id": "XZzI8-Kl_Rdg",
    "papermill": {
     "duration": 0.058303,
     "end_time": "2020-09-20T09:46:25.422225",
     "exception": false,
     "start_time": "2020-09-20T09:46:25.363922",
     "status": "completed"
    },
    "tags": []
   },
   "source": [
    "What is **verbose**?\n",
    "\n",
    "By setting verbose 0, 1 or 2 you just say how do you want to 'see' the training progress for each epoch.\n",
    "\n",
    "`verbose=0` will show you nothing (silent)\n",
    "\n",
    "`verbose=1` will show you an animated progress bar like this:\n",
    "\n",
    "![progres_bar](https://dphi-courses.s3.ap-south-1.amazonaws.com/Deep+Learning+Bootcamp/progress+bar.png)\n",
    "\n",
    "`verbose=2` will just mention the number of epoch like this:\n",
    "\n",
    "![verbose = 2](https://dphi-courses.s3.ap-south-1.amazonaws.com/Deep+Learning+Bootcamp/epoch.png)"
   ]
  },
  {
   "cell_type": "markdown",
   "metadata": {
    "id": "t_tKcVVzhJf8",
    "papermill": {
     "duration": 0.058098,
     "end_time": "2020-09-20T09:46:25.538623",
     "exception": false,
     "start_time": "2020-09-20T09:46:25.480525",
     "status": "completed"
    },
    "tags": []
   },
   "source": [
    "### 4. Evaluate the model\n",
    "Evaluating the model requires that you first choose a holdout dataset used to evaluate the model. This should be data not used in the training process i.e. the X_test.\n",
    "\n",
    "The speed of model evaluation is proportional to the amount of data you want to use for the evaluation, although it is much faster than training as the model is not changed.\n",
    "\n",
    "From an API perspective, this involves calling a function with the holdout dataset and getting a loss and perhaps other metrics that can be reported."
   ]
  },
  {
   "cell_type": "code",
   "execution_count": 12,
   "metadata": {
    "execution": {
     "iopub.execute_input": "2020-09-20T09:46:25.659549Z",
     "iopub.status.busy": "2020-09-20T09:46:25.658845Z",
     "iopub.status.idle": "2020-09-20T09:46:25.839886Z",
     "shell.execute_reply": "2020-09-20T09:46:25.839153Z"
    },
    "id": "qC63QoqchIa1",
    "outputId": "646c3c44-0773-4afd-84df-3dedc464bb9d",
    "papermill": {
     "duration": 0.244035,
     "end_time": "2020-09-20T09:46:25.840009",
     "exception": false,
     "start_time": "2020-09-20T09:46:25.595974",
     "status": "completed"
    },
    "tags": []
   },
   "outputs": [
    {
     "name": "stdout",
     "output_type": "stream",
     "text": [
      "3/3 [==============================] - 0s 1ms/step - loss: 54.9977\n"
     ]
    },
    {
     "data": {
      "text/plain": [
       "54.9976921081543"
      ]
     },
     "execution_count": 12,
     "metadata": {},
     "output_type": "execute_result"
    }
   ],
   "source": [
    "model.evaluate(X_test, y_test)"
   ]
  },
  {
   "cell_type": "markdown",
   "metadata": {
    "id": "gHM4sYEOnD7j",
    "papermill": {
     "duration": 0.059598,
     "end_time": "2020-09-20T09:46:25.958479",
     "exception": false,
     "start_time": "2020-09-20T09:46:25.898881",
     "status": "completed"
    },
    "tags": []
   },
   "source": [
    "The mean squared error we got here is 64.8. Now, **what does it mean?**\n",
    "\n",
    "When you subtract the predicted values (of X_test data) from the acutal value (of X_test data), then square it and sum all the squares, and finally take a mean (i.e. average) of it, the result you will get is 64.8 in this case.\n",
    "\n",
    "evaluate() does this task automatically. If you want to get the prediciton for X_test you can do **`model.predict(X_test)`**"
   ]
  },
  {
   "cell_type": "markdown",
   "metadata": {
    "id": "li94FIlfnMBB",
    "papermill": {
     "duration": 0.058947,
     "end_time": "2020-09-20T09:46:26.084682",
     "exception": false,
     "start_time": "2020-09-20T09:46:26.025735",
     "status": "completed"
    },
    "tags": []
   },
   "source": [
    "#### Hyperparameter Tunning\n",
    "The hyperparameters here in this notebook are:\n",
    "1. Learning Rate\n",
    "2. Epochs\n",
    "3. Batch Size\n",
    "\n",
    "We can try and change the values of these parameters and see the performance  of the model (evaluate the model) on X_test data"
   ]
  },
  {
   "cell_type": "markdown",
   "metadata": {
    "id": "XljOzViRoRbp",
    "papermill": {
     "duration": 0.059353,
     "end_time": "2020-09-20T09:46:26.203357",
     "exception": false,
     "start_time": "2020-09-20T09:46:26.144004",
     "status": "completed"
    },
    "tags": []
   },
   "source": [
    "**Learning Rate**\n",
    "\n",
    "A scalar used to train a model via gradient descent. During each iteration, the **gradient descent** algorithm multiplies the learning rate by the gradient. The resulting product is called the **gradient step**.\n",
    "\n",
    "Learning rate is a key **hyperparameter**."
   ]
  },
  {
   "cell_type": "code",
   "execution_count": 13,
   "metadata": {
    "execution": {
     "iopub.execute_input": "2020-09-20T09:46:26.332300Z",
     "iopub.status.busy": "2020-09-20T09:46:26.330515Z",
     "iopub.status.idle": "2020-09-20T09:46:27.169464Z",
     "shell.execute_reply": "2020-09-20T09:46:27.168374Z"
    },
    "id": "puhKnL9KKuZX",
    "outputId": "c3ecbeff-a8e1-4a57-d9f8-61750e124fa3",
    "papermill": {
     "duration": 0.907084,
     "end_time": "2020-09-20T09:46:27.169593",
     "exception": false,
     "start_time": "2020-09-20T09:46:26.262509",
     "status": "completed"
    },
    "tags": []
   },
   "outputs": [
    {
     "name": "stdout",
     "output_type": "stream",
     "text": [
      "Epoch 1/10\n",
      "11/11 [==============================] - 0s 1ms/step - loss: 35268.1953\n",
      "Epoch 2/10\n",
      "11/11 [==============================] - 0s 1ms/step - loss: 559.4069\n",
      "Epoch 3/10\n",
      "11/11 [==============================] - 0s 1ms/step - loss: 212.1509\n",
      "Epoch 4/10\n",
      "11/11 [==============================] - 0s 1ms/step - loss: 139.3775\n",
      "Epoch 5/10\n",
      "11/11 [==============================] - 0s 1ms/step - loss: 129.5609\n",
      "Epoch 6/10\n",
      "11/11 [==============================] - 0s 1ms/step - loss: 122.8495\n",
      "Epoch 7/10\n",
      "11/11 [==============================] - 0s 1ms/step - loss: 174.4108\n",
      "Epoch 8/10\n",
      "11/11 [==============================] - 0s 1ms/step - loss: 142.8208\n",
      "Epoch 9/10\n",
      "11/11 [==============================] - 0s 1ms/step - loss: 201.2056\n",
      "Epoch 10/10\n",
      "11/11 [==============================] - 0s 2ms/step - loss: 224.0007\n",
      "3/3 [==============================] - 0s 1ms/step - loss: 122.8395\n",
      "The MSE value is:  122.83949279785156\n"
     ]
    }
   ],
   "source": [
    "####################### Complete example to check the performance of the model with different learning rates #######################################\n",
    "# define the model\n",
    "model = Sequential()\n",
    "model.add(Dense(10, activation='relu', input_shape=(n_features,)))\n",
    "model.add(Dense(8, activation='relu'))\n",
    "model.add(Dense(1))\n",
    "\n",
    "optimizer = RMSprop(0.1)    # 0.1 is the learning rate\n",
    "model.compile(loss='mean_squared_error',optimizer=optimizer)    # compile the model\n",
    "\n",
    "# fit the model \n",
    "model.fit(X_train, y_train, epochs=10, batch_size=30, verbose = 1)\n",
    "\n",
    "# evaluate the model\n",
    "print('The MSE value is: ', model.evaluate(X_test, y_test))"
   ]
  },
  {
   "cell_type": "markdown",
   "metadata": {
    "id": "VPneBHxHYxfC",
    "papermill": {
     "duration": 0.068125,
     "end_time": "2020-09-20T09:46:27.307412",
     "exception": false,
     "start_time": "2020-09-20T09:46:27.239287",
     "status": "completed"
    },
    "tags": []
   },
   "source": [
    "As you can see above, how the loss (cost) i.e. MSE has changed by just changing the learning rate."
   ]
  },
  {
   "cell_type": "markdown",
   "metadata": {
    "id": "fhi50q4rhUiF",
    "papermill": {
     "duration": 0.068729,
     "end_time": "2020-09-20T09:46:27.444353",
     "exception": false,
     "start_time": "2020-09-20T09:46:27.375624",
     "status": "completed"
    },
    "tags": []
   },
   "source": [
    "### Exercise 1\n",
    "\n",
    "Test several learning rate values to see the impact of varying this value when defining your model."
   ]
  },
  {
   "cell_type": "code",
   "execution_count": 14,
   "metadata": {
    "execution": {
     "iopub.execute_input": "2020-09-20T09:46:27.587780Z",
     "iopub.status.busy": "2020-09-20T09:46:27.586890Z",
     "iopub.status.idle": "2020-09-20T09:46:27.591959Z",
     "shell.execute_reply": "2020-09-20T09:46:27.591208Z"
    },
    "id": "k4BqC2Cfo159",
    "papermill": {
     "duration": 0.079873,
     "end_time": "2020-09-20T09:46:27.592092",
     "exception": false,
     "start_time": "2020-09-20T09:46:27.512219",
     "status": "completed"
    },
    "tags": []
   },
   "outputs": [
    {
     "ename": "SyntaxError",
     "evalue": "invalid syntax (<ipython-input-14-d055f907dbf2>, line 2)",
     "output_type": "error",
     "traceback": [
      "\u001b[0;36m  File \u001b[0;32m\"<ipython-input-14-d055f907dbf2>\"\u001b[0;36m, line \u001b[0;32m2\u001b[0m\n\u001b[0;31m    learning_rate = ?          # Replace ? with a floating-point number\u001b[0m\n\u001b[0m                    ^\u001b[0m\n\u001b[0;31mSyntaxError\u001b[0m\u001b[0;31m:\u001b[0m invalid syntax\n"
     ]
    }
   ],
   "source": [
    "# Play with learning rate\n",
    "learning_rate = ?          # Replace ? with a floating-point number\n",
    "epochs = 10\n",
    "optimizer = RMSprop(learning_rate)\n",
    "model.compile(loss='mean_squared_error',optimizer=optimizer)    # compile the model\n",
    "model.fit(X_train, y_train, epochs=epochs, batch_size=30)     # fit the model\n",
    "model.evaluate(X_test, y_test)       # Evaluate the model"
   ]
  },
  {
   "cell_type": "markdown",
   "metadata": {
    "id": "Mov9-uVwpmkd",
    "papermill": {
     "duration": 0.069918,
     "end_time": "2020-09-20T09:46:27.736024",
     "exception": false,
     "start_time": "2020-09-20T09:46:27.666106",
     "status": "completed"
    },
    "tags": []
   },
   "source": [
    "**Epochs**\n",
    "\n",
    "A full training pass over the entire dataset such that each example has been seen once. Thus, an epoch represents N/batch size training iterations, where N is the total number of examples."
   ]
  },
  {
   "cell_type": "code",
   "execution_count": 15,
   "metadata": {
    "execution": {
     "iopub.execute_input": "2020-09-20T09:46:27.885488Z",
     "iopub.status.busy": "2020-09-20T09:46:27.884426Z",
     "iopub.status.idle": "2020-09-20T09:46:30.184037Z",
     "shell.execute_reply": "2020-09-20T09:46:30.183257Z"
    },
    "id": "zlZv50iKZPqo",
    "outputId": "36ef904c-7b07-4f63-954f-98b1a20b55f1",
    "papermill": {
     "duration": 2.378997,
     "end_time": "2020-09-20T09:46:30.184169",
     "exception": false,
     "start_time": "2020-09-20T09:46:27.805172",
     "status": "completed"
    },
    "tags": []
   },
   "outputs": [
    {
     "name": "stdout",
     "output_type": "stream",
     "text": [
      "Epoch 1/100\n",
      "11/11 [==============================] - 0s 1ms/step - loss: 9724.5732\n",
      "Epoch 2/100\n",
      "11/11 [==============================] - 0s 1ms/step - loss: 582.0069\n",
      "Epoch 3/100\n",
      "11/11 [==============================] - 0s 1ms/step - loss: 555.8216\n",
      "Epoch 4/100\n",
      "11/11 [==============================] - 0s 1ms/step - loss: 521.9396\n",
      "Epoch 5/100\n",
      "11/11 [==============================] - 0s 1ms/step - loss: 483.8689\n",
      "Epoch 6/100\n",
      "11/11 [==============================] - 0s 1ms/step - loss: 444.7491\n",
      "Epoch 7/100\n",
      "11/11 [==============================] - 0s 1ms/step - loss: 406.9054\n",
      "Epoch 8/100\n",
      "11/11 [==============================] - 0s 1ms/step - loss: 371.2612\n",
      "Epoch 9/100\n",
      "11/11 [==============================] - 0s 1ms/step - loss: 337.6587\n",
      "Epoch 10/100\n",
      "11/11 [==============================] - 0s 1ms/step - loss: 306.2268\n",
      "Epoch 11/100\n",
      "11/11 [==============================] - 0s 1ms/step - loss: 277.0800\n",
      "Epoch 12/100\n",
      "11/11 [==============================] - 0s 1ms/step - loss: 250.4167\n",
      "Epoch 13/100\n",
      "11/11 [==============================] - 0s 1ms/step - loss: 225.5309\n",
      "Epoch 14/100\n",
      "11/11 [==============================] - 0s 1ms/step - loss: 202.9859\n",
      "Epoch 15/100\n",
      "11/11 [==============================] - 0s 1ms/step - loss: 182.7787\n",
      "Epoch 16/100\n",
      "11/11 [==============================] - 0s 1ms/step - loss: 164.8227\n",
      "Epoch 17/100\n",
      "11/11 [==============================] - 0s 1ms/step - loss: 148.9729\n",
      "Epoch 18/100\n",
      "11/11 [==============================] - 0s 1ms/step - loss: 135.4988\n",
      "Epoch 19/100\n",
      "11/11 [==============================] - 0s 999us/step - loss: 123.8988\n",
      "Epoch 20/100\n",
      "11/11 [==============================] - 0s 1ms/step - loss: 114.1056\n",
      "Epoch 21/100\n",
      "11/11 [==============================] - 0s 1ms/step - loss: 106.0993\n",
      "Epoch 22/100\n",
      "11/11 [==============================] - 0s 1ms/step - loss: 100.3444\n",
      "Epoch 23/100\n",
      "11/11 [==============================] - 0s 1ms/step - loss: 96.4450\n",
      "Epoch 24/100\n",
      "11/11 [==============================] - 0s 1ms/step - loss: 93.5845\n",
      "Epoch 25/100\n",
      "11/11 [==============================] - 0s 1ms/step - loss: 92.0008\n",
      "Epoch 26/100\n",
      "11/11 [==============================] - 0s 1ms/step - loss: 91.3616\n",
      "Epoch 27/100\n",
      "11/11 [==============================] - 0s 1ms/step - loss: 91.0118\n",
      "Epoch 28/100\n",
      "11/11 [==============================] - 0s 1ms/step - loss: 91.1522\n",
      "Epoch 29/100\n",
      "11/11 [==============================] - 0s 1ms/step - loss: 91.0371\n",
      "Epoch 30/100\n",
      "11/11 [==============================] - 0s 1ms/step - loss: 91.0573\n",
      "Epoch 31/100\n",
      "11/11 [==============================] - 0s 1ms/step - loss: 90.9193\n",
      "Epoch 32/100\n",
      "11/11 [==============================] - 0s 1ms/step - loss: 91.0018\n",
      "Epoch 33/100\n",
      "11/11 [==============================] - 0s 1ms/step - loss: 90.9787\n",
      "Epoch 34/100\n",
      "11/11 [==============================] - 0s 1ms/step - loss: 90.9684\n",
      "Epoch 35/100\n",
      "11/11 [==============================] - 0s 1ms/step - loss: 91.0983\n",
      "Epoch 36/100\n",
      "11/11 [==============================] - 0s 1ms/step - loss: 90.9732\n",
      "Epoch 37/100\n",
      "11/11 [==============================] - 0s 1ms/step - loss: 90.9472\n",
      "Epoch 38/100\n",
      "11/11 [==============================] - 0s 1ms/step - loss: 90.9128\n",
      "Epoch 39/100\n",
      "11/11 [==============================] - 0s 1ms/step - loss: 91.0360\n",
      "Epoch 40/100\n",
      "11/11 [==============================] - 0s 1ms/step - loss: 90.9132\n",
      "Epoch 41/100\n",
      "11/11 [==============================] - 0s 1ms/step - loss: 90.9193\n",
      "Epoch 42/100\n",
      "11/11 [==============================] - 0s 1ms/step - loss: 90.9364\n",
      "Epoch 43/100\n",
      "11/11 [==============================] - 0s 1ms/step - loss: 90.8977\n",
      "Epoch 44/100\n",
      "11/11 [==============================] - 0s 1ms/step - loss: 90.9577\n",
      "Epoch 45/100\n",
      "11/11 [==============================] - 0s 1ms/step - loss: 90.9994\n",
      "Epoch 46/100\n",
      "11/11 [==============================] - 0s 1ms/step - loss: 91.0100\n",
      "Epoch 47/100\n",
      "11/11 [==============================] - 0s 1ms/step - loss: 91.0025\n",
      "Epoch 48/100\n",
      "11/11 [==============================] - 0s 1ms/step - loss: 91.0074\n",
      "Epoch 49/100\n",
      "11/11 [==============================] - 0s 1ms/step - loss: 90.9457\n",
      "Epoch 50/100\n",
      "11/11 [==============================] - 0s 1ms/step - loss: 91.0306\n",
      "Epoch 51/100\n",
      "11/11 [==============================] - 0s 1ms/step - loss: 91.1645\n",
      "Epoch 52/100\n",
      "11/11 [==============================] - 0s 1ms/step - loss: 90.9211\n",
      "Epoch 53/100\n",
      "11/11 [==============================] - 0s 1ms/step - loss: 90.9330\n",
      "Epoch 54/100\n",
      "11/11 [==============================] - 0s 1ms/step - loss: 90.8901\n",
      "Epoch 55/100\n",
      "11/11 [==============================] - 0s 1ms/step - loss: 91.0190\n",
      "Epoch 56/100\n",
      "11/11 [==============================] - 0s 1ms/step - loss: 91.0044\n",
      "Epoch 57/100\n",
      "11/11 [==============================] - 0s 1ms/step - loss: 91.0272\n",
      "Epoch 58/100\n",
      "11/11 [==============================] - 0s 1ms/step - loss: 91.0088\n",
      "Epoch 59/100\n",
      "11/11 [==============================] - 0s 1ms/step - loss: 91.0335\n",
      "Epoch 60/100\n",
      "11/11 [==============================] - 0s 1ms/step - loss: 90.8989\n",
      "Epoch 61/100\n",
      "11/11 [==============================] - 0s 1ms/step - loss: 91.0687\n",
      "Epoch 62/100\n",
      "11/11 [==============================] - 0s 1ms/step - loss: 90.9590\n",
      "Epoch 63/100\n",
      "11/11 [==============================] - 0s 1ms/step - loss: 90.9457\n",
      "Epoch 64/100\n",
      "11/11 [==============================] - 0s 1ms/step - loss: 90.9054\n",
      "Epoch 65/100\n",
      "11/11 [==============================] - 0s 1ms/step - loss: 91.0399\n",
      "Epoch 66/100\n",
      "11/11 [==============================] - 0s 1ms/step - loss: 90.9739\n",
      "Epoch 67/100\n",
      "11/11 [==============================] - 0s 1ms/step - loss: 90.9935\n",
      "Epoch 68/100\n",
      "11/11 [==============================] - 0s 1ms/step - loss: 90.9428\n",
      "Epoch 69/100\n",
      "11/11 [==============================] - 0s 1ms/step - loss: 90.9365\n",
      "Epoch 70/100\n",
      "11/11 [==============================] - 0s 1ms/step - loss: 90.9752\n",
      "Epoch 71/100\n",
      "11/11 [==============================] - 0s 1ms/step - loss: 90.9980\n",
      "Epoch 72/100\n",
      "11/11 [==============================] - 0s 1ms/step - loss: 91.0044\n",
      "Epoch 73/100\n",
      "11/11 [==============================] - 0s 1ms/step - loss: 91.0282\n",
      "Epoch 74/100\n",
      "11/11 [==============================] - 0s 1ms/step - loss: 91.0151\n",
      "Epoch 75/100\n",
      "11/11 [==============================] - 0s 1ms/step - loss: 90.9688\n",
      "Epoch 76/100\n",
      "11/11 [==============================] - 0s 1ms/step - loss: 90.9369\n",
      "Epoch 77/100\n",
      "11/11 [==============================] - 0s 1ms/step - loss: 91.0542\n",
      "Epoch 78/100\n",
      "11/11 [==============================] - 0s 1ms/step - loss: 90.9409\n",
      "Epoch 79/100\n",
      "11/11 [==============================] - 0s 1ms/step - loss: 91.1157\n",
      "Epoch 80/100\n",
      "11/11 [==============================] - 0s 1ms/step - loss: 90.9322\n",
      "Epoch 81/100\n",
      "11/11 [==============================] - 0s 1ms/step - loss: 91.0418\n",
      "Epoch 82/100\n",
      "11/11 [==============================] - 0s 1ms/step - loss: 90.9078\n",
      "Epoch 83/100\n",
      "11/11 [==============================] - 0s 1ms/step - loss: 90.9901\n",
      "Epoch 84/100\n",
      "11/11 [==============================] - 0s 1ms/step - loss: 91.0322\n",
      "Epoch 85/100\n",
      "11/11 [==============================] - 0s 1ms/step - loss: 91.0187\n",
      "Epoch 86/100\n",
      "11/11 [==============================] - 0s 1ms/step - loss: 90.9214\n",
      "Epoch 87/100\n",
      "11/11 [==============================] - 0s 1ms/step - loss: 91.0568\n",
      "Epoch 88/100\n",
      "11/11 [==============================] - 0s 1ms/step - loss: 90.8874\n",
      "Epoch 89/100\n",
      "11/11 [==============================] - 0s 1ms/step - loss: 90.9281\n",
      "Epoch 90/100\n",
      "11/11 [==============================] - 0s 1ms/step - loss: 91.0325\n",
      "Epoch 91/100\n",
      "11/11 [==============================] - 0s 1ms/step - loss: 90.9906\n",
      "Epoch 92/100\n",
      "11/11 [==============================] - 0s 1ms/step - loss: 91.0670\n",
      "Epoch 93/100\n",
      "11/11 [==============================] - 0s 1ms/step - loss: 90.8633\n",
      "Epoch 94/100\n",
      "11/11 [==============================] - 0s 1ms/step - loss: 90.9740\n",
      "Epoch 95/100\n",
      "11/11 [==============================] - 0s 1ms/step - loss: 91.0710\n",
      "Epoch 96/100\n",
      "11/11 [==============================] - 0s 1ms/step - loss: 90.9303\n",
      "Epoch 97/100\n",
      "11/11 [==============================] - 0s 1ms/step - loss: 90.9599\n",
      "Epoch 98/100\n",
      "11/11 [==============================] - 0s 1ms/step - loss: 90.9306\n",
      "Epoch 99/100\n",
      "11/11 [==============================] - 0s 2ms/step - loss: 91.0165\n",
      "Epoch 100/100\n",
      "11/11 [==============================] - 0s 1ms/step - loss: 90.9525\n",
      "3/3 [==============================] - 0s 2ms/step - loss: 71.1146\n",
      "The MSE value is:  71.11458587646484\n"
     ]
    }
   ],
   "source": [
    "####################### Complete example to check the performance of the model with different epochs and learning rate = 0.01 #######################################\n",
    "# define the model\n",
    "model = Sequential()\n",
    "model.add(Dense(10, activation='relu', input_shape=(n_features,)))\n",
    "model.add(Dense(8, activation='relu'))\n",
    "model.add(Dense(1))\n",
    "\n",
    "optimizer = RMSprop(0.1)    # 0.1 is the learning rate\n",
    "model.compile(loss='mean_squared_error',optimizer=optimizer)    # compile the model\n",
    "\n",
    "# fit the model \n",
    "model.fit(X_train, y_train, epochs=100, batch_size=30, verbose = 1)\n",
    "\n",
    "# evaluate the model\n",
    "print('The MSE value is: ', model.evaluate(X_test, y_test))"
   ]
  },
  {
   "cell_type": "markdown",
   "metadata": {
    "id": "CPakaxBaZZNA",
    "papermill": {
     "duration": 0.158956,
     "end_time": "2020-09-20T09:46:30.510611",
     "exception": false,
     "start_time": "2020-09-20T09:46:30.351655",
     "status": "completed"
    },
    "tags": []
   },
   "source": [
    "You can see above how the loss (cost) i.e. MSE has changed just by changing the epochs and keeping the learning rate same as 0.01 (i.e. the first model we built)"
   ]
  },
  {
   "cell_type": "markdown",
   "metadata": {
    "id": "6WoG362ohrQF",
    "papermill": {
     "duration": 0.169126,
     "end_time": "2020-09-20T09:46:30.865907",
     "exception": false,
     "start_time": "2020-09-20T09:46:30.696781",
     "status": "completed"
    },
    "tags": []
   },
   "source": [
    "### Exercise 2\n",
    "\n",
    "Test several epoch values to see the impact of varying this value when defining your model."
   ]
  },
  {
   "cell_type": "code",
   "execution_count": 16,
   "metadata": {
    "execution": {
     "iopub.execute_input": "2020-09-20T09:46:31.198210Z",
     "iopub.status.busy": "2020-09-20T09:46:31.197336Z",
     "iopub.status.idle": "2020-09-20T09:46:31.201950Z",
     "shell.execute_reply": "2020-09-20T09:46:31.201358Z"
    },
    "id": "QUmO4ehKqC2_",
    "papermill": {
     "duration": 0.172941,
     "end_time": "2020-09-20T09:46:31.202079",
     "exception": false,
     "start_time": "2020-09-20T09:46:31.029138",
     "status": "completed"
    },
    "tags": []
   },
   "outputs": [
    {
     "ename": "SyntaxError",
     "evalue": "invalid syntax (<ipython-input-16-ac2bf0d4f1e0>, line 3)",
     "output_type": "error",
     "traceback": [
      "\u001b[0;36m  File \u001b[0;32m\"<ipython-input-16-ac2bf0d4f1e0>\"\u001b[0;36m, line \u001b[0;32m3\u001b[0m\n\u001b[0;31m    epochs = ?             # Replace ? with an integer\u001b[0m\n\u001b[0m             ^\u001b[0m\n\u001b[0;31mSyntaxError\u001b[0m\u001b[0;31m:\u001b[0m invalid syntax\n"
     ]
    }
   ],
   "source": [
    "# Play with epochs\n",
    "learning_rate = 0.01         \n",
    "epochs = ?             # Replace ? with an integer\n",
    "optimizer = RMSprop(learning_rate)\n",
    "model.compile(loss='mean_squared_error',optimizer=optimizer)    # compile the model\n",
    "model.fit(X_train, y_train, epochs=epochs, batch_size=30)     # fit the model\n",
    "model.evaluate(X_test, y_test)       # Evaluate the model"
   ]
  },
  {
   "cell_type": "markdown",
   "metadata": {
    "id": "K6cx5vbtqdeD",
    "papermill": {
     "duration": 0.16704,
     "end_time": "2020-09-20T09:46:31.534082",
     "exception": false,
     "start_time": "2020-09-20T09:46:31.367042",
     "status": "completed"
    },
    "tags": []
   },
   "source": [
    "### Exercise 3\n",
    "\n",
    "Find the best possible combination of *learning rate* and *epochs* while testing some combinations"
   ]
  },
  {
   "cell_type": "code",
   "execution_count": 17,
   "metadata": {
    "execution": {
     "iopub.execute_input": "2020-09-20T09:46:31.915122Z",
     "iopub.status.busy": "2020-09-20T09:46:31.913707Z",
     "iopub.status.idle": "2020-09-20T09:46:31.919004Z",
     "shell.execute_reply": "2020-09-20T09:46:31.918246Z"
    },
    "id": "n8RUGIklqxKS",
    "papermill": {
     "duration": 0.22253,
     "end_time": "2020-09-20T09:46:31.919136",
     "exception": false,
     "start_time": "2020-09-20T09:46:31.696606",
     "status": "completed"
    },
    "tags": []
   },
   "outputs": [
    {
     "ename": "SyntaxError",
     "evalue": "invalid syntax (<ipython-input-17-fd774d61b041>, line 2)",
     "output_type": "error",
     "traceback": [
      "\u001b[0;36m  File \u001b[0;32m\"<ipython-input-17-fd774d61b041>\"\u001b[0;36m, line \u001b[0;32m2\u001b[0m\n\u001b[0;31m    learning_rate = ?        # Replace ? with a floating-point number\u001b[0m\n\u001b[0m                    ^\u001b[0m\n\u001b[0;31mSyntaxError\u001b[0m\u001b[0;31m:\u001b[0m invalid syntax\n"
     ]
    }
   ],
   "source": [
    "# play with learning rate and epochs\n",
    "learning_rate = ?        # Replace ? with a floating-point number\n",
    "epochs = ?             # Replace ? with an integer\n",
    "optimizer = RMSprop(learning_rate)\n",
    "model.compile(loss='mean_squared_error',optimizer=optimizer)    # compile the model\n",
    "model.fit(X_train, y_train, epochs=epochs, batch_size=30)     # fit the model\n",
    "model.evaluate(X_test, y_test)       # Evaluate the model"
   ]
  },
  {
   "cell_type": "markdown",
   "metadata": {
    "id": "kcn3gB3Uq7u6",
    "papermill": {
     "duration": 0.15903,
     "end_time": "2020-09-20T09:46:32.241540",
     "exception": false,
     "start_time": "2020-09-20T09:46:32.082510",
     "status": "completed"
    },
    "tags": []
   },
   "source": [
    "**Batch Size**\n",
    "\n",
    "The number of examples in a batch."
   ]
  },
  {
   "cell_type": "code",
   "execution_count": 18,
   "metadata": {
    "execution": {
     "iopub.execute_input": "2020-09-20T09:46:32.584348Z",
     "iopub.status.busy": "2020-09-20T09:46:32.583547Z",
     "iopub.status.idle": "2020-09-20T09:46:33.392291Z",
     "shell.execute_reply": "2020-09-20T09:46:33.391634Z"
    },
    "id": "DTSP63PTZ8hv",
    "outputId": "d0a90bd0-9e34-49e4-b351-fa035ae6df22",
    "papermill": {
     "duration": 0.985865,
     "end_time": "2020-09-20T09:46:33.392431",
     "exception": false,
     "start_time": "2020-09-20T09:46:32.406566",
     "status": "completed"
    },
    "tags": []
   },
   "outputs": [
    {
     "name": "stdout",
     "output_type": "stream",
     "text": [
      "Epoch 1/10\n",
      "9/9 [==============================] - 0s 1ms/step - loss: 27410.0859\n",
      "Epoch 2/10\n",
      "9/9 [==============================] - 0s 1ms/step - loss: 211.4277\n",
      "Epoch 3/10\n",
      "9/9 [==============================] - 0s 1ms/step - loss: 187.7308\n",
      "Epoch 4/10\n",
      "9/9 [==============================] - 0s 1ms/step - loss: 157.6277\n",
      "Epoch 5/10\n",
      "9/9 [==============================] - 0s 1ms/step - loss: 133.5318\n",
      "Epoch 6/10\n",
      "9/9 [==============================] - 0s 1ms/step - loss: 206.0190\n",
      "Epoch 7/10\n",
      "9/9 [==============================] - 0s 1ms/step - loss: 335.1152\n",
      "Epoch 8/10\n",
      "9/9 [==============================] - 0s 1ms/step - loss: 166.5187\n",
      "Epoch 9/10\n",
      "9/9 [==============================] - 0s 1ms/step - loss: 194.7235\n",
      "Epoch 10/10\n",
      "9/9 [==============================] - 0s 1ms/step - loss: 181.1716\n",
      "3/3 [==============================] - 0s 1ms/step - loss: 441.9665\n",
      "The MSE value is:  441.9665222167969\n"
     ]
    }
   ],
   "source": [
    "####################### Complete example to check the performance of the model with different batch size while keeping epochs as 30 and learning rate as 0.01 #######################################\n",
    "# define the model\n",
    "model = Sequential()\n",
    "model.add(Dense(10, activation='relu', input_shape=(n_features,)))\n",
    "model.add(Dense(8, activation='relu'))\n",
    "model.add(Dense(1))\n",
    "\n",
    "optimizer = RMSprop(0.1)    # 0.1 is the learning rate\n",
    "model.compile(loss='mean_squared_error',optimizer=optimizer)    # compile the model\n",
    "\n",
    "# fit the model \n",
    "model.fit(X_train, y_train, epochs=10, batch_size=40, verbose = 1)\n",
    "\n",
    "# evaluate the model\n",
    "print('The MSE value is: ', model.evaluate(X_test, y_test))"
   ]
  },
  {
   "cell_type": "markdown",
   "metadata": {
    "id": "r7xoMXoVaJy5",
    "papermill": {
     "duration": 0.170281,
     "end_time": "2020-09-20T09:46:33.742883",
     "exception": false,
     "start_time": "2020-09-20T09:46:33.572602",
     "status": "completed"
    },
    "tags": []
   },
   "source": [
    "You can see above the cost(loss) value i.e. MSE for batch size 40 while keeping epochs as 10 and learning rate as 0.01"
   ]
  },
  {
   "cell_type": "markdown",
   "metadata": {
    "id": "y9VcjhruiIxd",
    "papermill": {
     "duration": 0.172108,
     "end_time": "2020-09-20T09:46:34.084655",
     "exception": false,
     "start_time": "2020-09-20T09:46:33.912547",
     "status": "completed"
    },
    "tags": []
   },
   "source": [
    "### Exercise 4\n",
    "\n",
    "Test several batch size values to see the impact of varying this value when defining your model."
   ]
  },
  {
   "cell_type": "code",
   "execution_count": 19,
   "metadata": {
    "execution": {
     "iopub.execute_input": "2020-09-20T09:46:34.436589Z",
     "iopub.status.busy": "2020-09-20T09:46:34.435602Z",
     "iopub.status.idle": "2020-09-20T09:46:34.439779Z",
     "shell.execute_reply": "2020-09-20T09:46:34.440388Z"
    },
    "id": "WKik9O5grNa1",
    "papermill": {
     "duration": 0.182662,
     "end_time": "2020-09-20T09:46:34.440555",
     "exception": false,
     "start_time": "2020-09-20T09:46:34.257893",
     "status": "completed"
    },
    "tags": []
   },
   "outputs": [
    {
     "ename": "SyntaxError",
     "evalue": "invalid syntax (<ipython-input-19-c8c597e9060a>, line 4)",
     "output_type": "error",
     "traceback": [
      "\u001b[0;36m  File \u001b[0;32m\"<ipython-input-19-c8c597e9060a>\"\u001b[0;36m, line \u001b[0;32m4\u001b[0m\n\u001b[0;31m    batch = ?      # Replace ? with an integer\u001b[0m\n\u001b[0m            ^\u001b[0m\n\u001b[0;31mSyntaxError\u001b[0m\u001b[0;31m:\u001b[0m invalid syntax\n"
     ]
    }
   ],
   "source": [
    "# play with batch size\n",
    "learning_rate = 0.01        \n",
    "epochs = 150         \n",
    "batch = ?      # Replace ? with an integer    \n",
    "optimizer = RMSprop(learning_rate)\n",
    "model.compile(loss='mean_squared_error',optimizer=optimizer)    # compile the model\n",
    "model.fit(X_train, y_train, epochs=epochs, batch_size=batch)     # fit the model\n",
    "model.evaluate(X_test, y_test)       # Evaluate the model"
   ]
  },
  {
   "cell_type": "markdown",
   "metadata": {
    "id": "wQV6zkKXrwR0",
    "papermill": {
     "duration": 0.177068,
     "end_time": "2020-09-20T09:46:34.794842",
     "exception": false,
     "start_time": "2020-09-20T09:46:34.617774",
     "status": "completed"
    },
    "tags": []
   },
   "source": [
    "#### **Summary of hyperparameter tuning**\n",
    "Most machine learning problems require a lot of hyperparameter tuning. Unfortunately, we can't provide concrete tuning rules for every model. Lowering the learning rate can help one model converge efficiently but make another model converge much too slowly. You must experiment to find the best set of hyperparameters for your dataset. That said, here are a few rules of thumb:\n",
    "\n",
    "*  Training loss should steadily decrease, steeply at first, and then more slowly until the slope of the curve reaches or approaches zero.\n",
    "*  If the training loss does not converge, train for more epochs.\n",
    "*  If the training loss decreases too slowly, increase the learning rate. Note that setting the learning rate too high may also prevent training loss from converging.\n",
    "*  If the training loss varies wildly (that is, the training loss jumps around), decrease the learning rate.\n",
    "*  Lowering the learning rate while increasing the number of epochs or the batch size is often a good combination.\n",
    "*  Setting the batch size to a very small batch number can also cause instability. First, try large batch size values. Then, decrease the batch size until you see degradation.\n",
    "*  For real-world datasets consisting of a very large number of examples, the entire dataset might not fit into memory. In such cases, you'll need to reduce the batch size to enable a batch to fit into memory.\n",
    "\n",
    "Remember: the ideal combination of hyperparameters is data dependent, so you must always experiment and verify."
   ]
  },
  {
   "cell_type": "markdown",
   "metadata": {
    "id": "1GDb-EBTFuX9",
    "papermill": {
     "duration": 0.178872,
     "end_time": "2020-09-20T09:46:35.145562",
     "exception": false,
     "start_time": "2020-09-20T09:46:34.966690",
     "status": "completed"
    },
    "tags": []
   },
   "source": [
    "We can do a hyperparameter tuning procedure in two ways:\n",
    "1. Implementing hyperparameter tuning with Sklearn\n",
    "2. Implementing hyperparameter tuning with Keras"
   ]
  },
  {
   "cell_type": "markdown",
   "metadata": {
    "id": "sHo4yEC44ucs",
    "papermill": {
     "duration": 0.171537,
     "end_time": "2020-09-20T09:46:35.487602",
     "exception": false,
     "start_time": "2020-09-20T09:46:35.316065",
     "status": "completed"
    },
    "tags": []
   },
   "source": [
    "#### **Implementing hyperparameter tuning with Sklearn**\n",
    "Well, we can automate the hyperparameter tunning using **GridSearCV**. GridSearchCV is a hyperparameter search procedure that is done over a defined grid of hyperparameters. Each one of the hyperparameter combinations is used for training a new model, while a cross-validation process is executed to measure the performance of the provisional models. Once the process is done, the hyperparameters and the model with the best performance are chosen.\n"
   ]
  },
  {
   "cell_type": "markdown",
   "metadata": {
    "id": "Hcbe1A171evn",
    "papermill": {
     "duration": 0.171293,
     "end_time": "2020-09-20T09:46:35.835958",
     "exception": false,
     "start_time": "2020-09-20T09:46:35.664665",
     "status": "completed"
    },
    "tags": []
   },
   "source": [
    "Let's first take a look at the implementation of GridSearchCV with Sklearn, following the steps:\n",
    "1. Define the general architecture of the model\n",
    "2. Define the hyperparameters grid to be validated\n",
    "3. Run the GridSearchCV process\n",
    "4. Print the results of the best model"
   ]
  },
  {
   "cell_type": "code",
   "execution_count": 20,
   "metadata": {
    "execution": {
     "iopub.execute_input": "2020-09-20T09:46:36.222718Z",
     "iopub.status.busy": "2020-09-20T09:46:36.221965Z",
     "iopub.status.idle": "2020-09-20T09:46:36.639108Z",
     "shell.execute_reply": "2020-09-20T09:46:36.638443Z"
    },
    "id": "ofZvGK5eb8Zg",
    "outputId": "c7275a90-618f-4cee-d84a-0e22e4f7cd77",
    "papermill": {
     "duration": 0.625177,
     "end_time": "2020-09-20T09:46:36.639243",
     "exception": false,
     "start_time": "2020-09-20T09:46:36.014066",
     "status": "completed"
    },
    "tags": []
   },
   "outputs": [
    {
     "ename": "TypeError",
     "evalue": "Cannot clone object '<tensorflow.python.keras.engine.sequential.Sequential object at 0x7fa1000c3cd0>' (type <class 'tensorflow.python.keras.engine.sequential.Sequential'>): it does not seem to be a scikit-learn estimator as it does not implement a 'get_params' method.",
     "output_type": "error",
     "traceback": [
      "\u001b[0;31m---------------------------------------------------------------------------\u001b[0m",
      "\u001b[0;31mTypeError\u001b[0m                                 Traceback (most recent call last)",
      "\u001b[0;32m<ipython-input-20-f1213a1005ed>\u001b[0m in \u001b[0;36m<module>\u001b[0;34m\u001b[0m\n\u001b[1;32m     17\u001b[0m \u001b[0;34m\u001b[0m\u001b[0m\n\u001b[1;32m     18\u001b[0m \u001b[0;31m# 3. Run the GridSearchCV process\u001b[0m\u001b[0;34m\u001b[0m\u001b[0;34m\u001b[0m\u001b[0;34m\u001b[0m\u001b[0m\n\u001b[0;32m---> 19\u001b[0;31m \u001b[0mgrid_result\u001b[0m \u001b[0;34m=\u001b[0m \u001b[0mgrid\u001b[0m\u001b[0;34m.\u001b[0m\u001b[0mfit\u001b[0m\u001b[0;34m(\u001b[0m\u001b[0mX_train\u001b[0m\u001b[0;34m,\u001b[0m \u001b[0my_train\u001b[0m\u001b[0;34m)\u001b[0m\u001b[0;34m\u001b[0m\u001b[0;34m\u001b[0m\u001b[0m\n\u001b[0m\u001b[1;32m     20\u001b[0m \u001b[0;34m\u001b[0m\u001b[0m\n\u001b[1;32m     21\u001b[0m \u001b[0;31m# 4. Print the results of the best model\u001b[0m\u001b[0;34m\u001b[0m\u001b[0;34m\u001b[0m\u001b[0;34m\u001b[0m\u001b[0m\n",
      "\u001b[0;32m/opt/conda/lib/python3.7/site-packages/sklearn/utils/validation.py\u001b[0m in \u001b[0;36minner_f\u001b[0;34m(*args, **kwargs)\u001b[0m\n\u001b[1;32m     70\u001b[0m                           FutureWarning)\n\u001b[1;32m     71\u001b[0m         \u001b[0mkwargs\u001b[0m\u001b[0;34m.\u001b[0m\u001b[0mupdate\u001b[0m\u001b[0;34m(\u001b[0m\u001b[0;34m{\u001b[0m\u001b[0mk\u001b[0m\u001b[0;34m:\u001b[0m \u001b[0marg\u001b[0m \u001b[0;32mfor\u001b[0m \u001b[0mk\u001b[0m\u001b[0;34m,\u001b[0m \u001b[0marg\u001b[0m \u001b[0;32min\u001b[0m \u001b[0mzip\u001b[0m\u001b[0;34m(\u001b[0m\u001b[0msig\u001b[0m\u001b[0;34m.\u001b[0m\u001b[0mparameters\u001b[0m\u001b[0;34m,\u001b[0m \u001b[0margs\u001b[0m\u001b[0;34m)\u001b[0m\u001b[0;34m}\u001b[0m\u001b[0;34m)\u001b[0m\u001b[0;34m\u001b[0m\u001b[0;34m\u001b[0m\u001b[0m\n\u001b[0;32m---> 72\u001b[0;31m         \u001b[0;32mreturn\u001b[0m \u001b[0mf\u001b[0m\u001b[0;34m(\u001b[0m\u001b[0;34m**\u001b[0m\u001b[0mkwargs\u001b[0m\u001b[0;34m)\u001b[0m\u001b[0;34m\u001b[0m\u001b[0;34m\u001b[0m\u001b[0m\n\u001b[0m\u001b[1;32m     73\u001b[0m     \u001b[0;32mreturn\u001b[0m \u001b[0minner_f\u001b[0m\u001b[0;34m\u001b[0m\u001b[0;34m\u001b[0m\u001b[0m\n\u001b[1;32m     74\u001b[0m \u001b[0;34m\u001b[0m\u001b[0m\n",
      "\u001b[0;32m/opt/conda/lib/python3.7/site-packages/sklearn/model_selection/_search.py\u001b[0m in \u001b[0;36mfit\u001b[0;34m(self, X, y, groups, **fit_params)\u001b[0m\n\u001b[1;32m    679\u001b[0m         \u001b[0mn_splits\u001b[0m \u001b[0;34m=\u001b[0m \u001b[0mcv\u001b[0m\u001b[0;34m.\u001b[0m\u001b[0mget_n_splits\u001b[0m\u001b[0;34m(\u001b[0m\u001b[0mX\u001b[0m\u001b[0;34m,\u001b[0m \u001b[0my\u001b[0m\u001b[0;34m,\u001b[0m \u001b[0mgroups\u001b[0m\u001b[0;34m)\u001b[0m\u001b[0;34m\u001b[0m\u001b[0;34m\u001b[0m\u001b[0m\n\u001b[1;32m    680\u001b[0m \u001b[0;34m\u001b[0m\u001b[0m\n\u001b[0;32m--> 681\u001b[0;31m         \u001b[0mbase_estimator\u001b[0m \u001b[0;34m=\u001b[0m \u001b[0mclone\u001b[0m\u001b[0;34m(\u001b[0m\u001b[0mself\u001b[0m\u001b[0;34m.\u001b[0m\u001b[0mestimator\u001b[0m\u001b[0;34m)\u001b[0m\u001b[0;34m\u001b[0m\u001b[0;34m\u001b[0m\u001b[0m\n\u001b[0m\u001b[1;32m    682\u001b[0m \u001b[0;34m\u001b[0m\u001b[0m\n\u001b[1;32m    683\u001b[0m         parallel = Parallel(n_jobs=self.n_jobs, verbose=self.verbose,\n",
      "\u001b[0;32m/opt/conda/lib/python3.7/site-packages/sklearn/utils/validation.py\u001b[0m in \u001b[0;36minner_f\u001b[0;34m(*args, **kwargs)\u001b[0m\n\u001b[1;32m     70\u001b[0m                           FutureWarning)\n\u001b[1;32m     71\u001b[0m         \u001b[0mkwargs\u001b[0m\u001b[0;34m.\u001b[0m\u001b[0mupdate\u001b[0m\u001b[0;34m(\u001b[0m\u001b[0;34m{\u001b[0m\u001b[0mk\u001b[0m\u001b[0;34m:\u001b[0m \u001b[0marg\u001b[0m \u001b[0;32mfor\u001b[0m \u001b[0mk\u001b[0m\u001b[0;34m,\u001b[0m \u001b[0marg\u001b[0m \u001b[0;32min\u001b[0m \u001b[0mzip\u001b[0m\u001b[0;34m(\u001b[0m\u001b[0msig\u001b[0m\u001b[0;34m.\u001b[0m\u001b[0mparameters\u001b[0m\u001b[0;34m,\u001b[0m \u001b[0margs\u001b[0m\u001b[0;34m)\u001b[0m\u001b[0;34m}\u001b[0m\u001b[0;34m)\u001b[0m\u001b[0;34m\u001b[0m\u001b[0;34m\u001b[0m\u001b[0m\n\u001b[0;32m---> 72\u001b[0;31m         \u001b[0;32mreturn\u001b[0m \u001b[0mf\u001b[0m\u001b[0;34m(\u001b[0m\u001b[0;34m**\u001b[0m\u001b[0mkwargs\u001b[0m\u001b[0;34m)\u001b[0m\u001b[0;34m\u001b[0m\u001b[0;34m\u001b[0m\u001b[0m\n\u001b[0m\u001b[1;32m     73\u001b[0m     \u001b[0;32mreturn\u001b[0m \u001b[0minner_f\u001b[0m\u001b[0;34m\u001b[0m\u001b[0;34m\u001b[0m\u001b[0m\n\u001b[1;32m     74\u001b[0m \u001b[0;34m\u001b[0m\u001b[0m\n",
      "\u001b[0;32m/opt/conda/lib/python3.7/site-packages/sklearn/base.py\u001b[0m in \u001b[0;36mclone\u001b[0;34m(estimator, safe)\u001b[0m\n\u001b[1;32m     80\u001b[0m                                 \u001b[0;34m\"estimator as it does not implement a \"\u001b[0m\u001b[0;34m\u001b[0m\u001b[0;34m\u001b[0m\u001b[0m\n\u001b[1;32m     81\u001b[0m                                 \u001b[0;34m\"'get_params' method.\"\u001b[0m\u001b[0;34m\u001b[0m\u001b[0;34m\u001b[0m\u001b[0m\n\u001b[0;32m---> 82\u001b[0;31m                                 % (repr(estimator), type(estimator)))\n\u001b[0m\u001b[1;32m     83\u001b[0m \u001b[0;34m\u001b[0m\u001b[0m\n\u001b[1;32m     84\u001b[0m     \u001b[0mklass\u001b[0m \u001b[0;34m=\u001b[0m \u001b[0mestimator\u001b[0m\u001b[0;34m.\u001b[0m\u001b[0m__class__\u001b[0m\u001b[0;34m\u001b[0m\u001b[0;34m\u001b[0m\u001b[0m\n",
      "\u001b[0;31mTypeError\u001b[0m: Cannot clone object '<tensorflow.python.keras.engine.sequential.Sequential object at 0x7fa1000c3cd0>' (type <class 'tensorflow.python.keras.engine.sequential.Sequential'>): it does not seem to be a scikit-learn estimator as it does not implement a 'get_params' method."
     ]
    }
   ],
   "source": [
    "# Import the GridSearchCV class\n",
    "from sklearn.model_selection import GridSearchCV\n",
    "\n",
    "# 1. Define the model's architecture\n",
    "model = Sequential()\n",
    "model.add(Dense(10, activation='relu', input_shape=(n_features,)))\n",
    "model.add(Dense(8, activation='relu'))\n",
    "model.add(Dense(1))\n",
    "optimizer = RMSprop(0.1)    # 0.1 is the learning rate\n",
    "model.compile(loss='mean_squared_error',optimizer=optimizer)    # compile the model\n",
    "\n",
    "# 2. Define the hyperparameters grid to be validated\n",
    "batch_size = [10, 20, 40, 60, 80, 100]\n",
    "epochs = [10, 50, 100]\n",
    "param_grid = dict(batch_size=batch_size, epochs=epochs)\n",
    "grid = GridSearchCV(estimator=model, param_grid=param_grid, scoring='neg_mean_squared_error', n_jobs=-1)\n",
    "\n",
    "# 3. Run the GridSearchCV process\n",
    "grid_result = grid.fit(X_train, y_train)\n",
    "\n",
    "# 4. Print the results of the best model\n",
    "print(\"Best: %f using %s\" % (grid_result.best_score_, grid_result.best_params_))"
   ]
  },
  {
   "cell_type": "markdown",
   "metadata": {
    "id": "4K6RVW_D4JEC",
    "papermill": {
     "duration": 0.172116,
     "end_time": "2020-09-20T09:46:36.986177",
     "exception": false,
     "start_time": "2020-09-20T09:46:36.814061",
     "status": "completed"
    },
    "tags": []
   },
   "source": [
    "We can observe an error in the hyperparameter tuning procedure using native Sklearn, because the defined model is a Sequential model implemented by Keras, not a scikit-learn estimator. In order to correct this error, we will integrate Sklearn and Keras properly, by (a) creating a `create_model` function that allows to create the model in an automated way, and (b) defining a `KerasRegressor` model which is an implementation of the scikit-learn regressor API for Keras."
   ]
  },
  {
   "cell_type": "code",
   "execution_count": 21,
   "metadata": {
    "execution": {
     "iopub.execute_input": "2020-09-20T09:46:37.354674Z",
     "iopub.status.busy": "2020-09-20T09:46:37.353921Z",
     "iopub.status.idle": "2020-09-20T09:47:16.535288Z",
     "shell.execute_reply": "2020-09-20T09:47:16.532917Z"
    },
    "id": "KBqYpM4bXCCK",
    "outputId": "a1d0c4f4-eefe-42ad-a1dc-d2c1c254815c",
    "papermill": {
     "duration": 39.370924,
     "end_time": "2020-09-20T09:47:16.535445",
     "exception": false,
     "start_time": "2020-09-20T09:46:37.164521",
     "status": "completed"
    },
    "tags": []
   },
   "outputs": [
    {
     "name": "stdout",
     "output_type": "stream",
     "text": [
      "9/9 [==============================] - 0s 1ms/step - loss: 195.1986 - mse: 195.1986\n",
      "Best params: {'batch_size': 40, 'nb_epoch': 100}\n"
     ]
    }
   ],
   "source": [
    "# ----------------------------- Functional Tuning - Option 1: using Sklearn  ------------------------------\n",
    "# Goal: tune the batch size and epochs\n",
    "\n",
    "# Import KerasRegressor class\n",
    "from keras.wrappers.scikit_learn import KerasRegressor\n",
    "\n",
    "# Define the model trhough a user-defined function\n",
    "def create_model(optimizer=RMSprop(0.01)):\n",
    "  model = Sequential()\n",
    "  model.add(Dense(10, activation='relu', input_shape=(n_features,)))\n",
    "  model.add(Dense(8, activation='relu'))\n",
    "  model.add(Dense(1))\n",
    "  model.compile(loss='mse', metrics=['mse'], optimizer=optimizer)    # compile the model\n",
    "  return model\n",
    "model = KerasRegressor(build_fn=create_model, verbose=1)\n",
    "\n",
    "# Define the hyperparameters grid to be validated\n",
    "batch_size = [10, 20, 30, 40, 60, 80, 100]\n",
    "epochs = [10, 50, 100]\n",
    "param_grid = dict(batch_size=batch_size, nb_epoch=epochs)\n",
    "model = KerasRegressor(build_fn=create_model, verbose=1)\n",
    "grid = GridSearchCV(estimator=model, param_grid=param_grid, cv=5, n_jobs=-1)\n",
    "\n",
    "# Run the GridSearchCV process\n",
    "grid_result = grid.fit(X_train, y_train, verbose = 1)\n",
    "\n",
    "# Print the results of the best model\n",
    "print('Best params: ' + str(grid_result.best_params_))"
   ]
  },
  {
   "cell_type": "code",
   "execution_count": 22,
   "metadata": {
    "execution": {
     "iopub.execute_input": "2020-09-20T09:47:16.902734Z",
     "iopub.status.busy": "2020-09-20T09:47:16.901652Z",
     "iopub.status.idle": "2020-09-20T09:47:20.645147Z",
     "shell.execute_reply": "2020-09-20T09:47:20.644516Z"
    },
    "id": "x5yqTxcWd2tY",
    "outputId": "99eb332e-80e5-41a8-a0f5-35b5d5d4351f",
    "papermill": {
     "duration": 3.929668,
     "end_time": "2020-09-20T09:47:20.645267",
     "exception": false,
     "start_time": "2020-09-20T09:47:16.715599",
     "status": "completed"
    },
    "tags": []
   },
   "outputs": [
    {
     "name": "stdout",
     "output_type": "stream",
     "text": [
      "2/2 [==============================] - 0s 1ms/step - loss: 2191.1982 - mse: 2191.1982\n",
      "1/1 [==============================] - 0s 2ms/step - loss: 619.9265 - mse: 619.9265\n",
      "2/2 [==============================] - 0s 2ms/step - loss: 460.1555 - mse: 460.1555\n",
      "1/1 [==============================] - 0s 2ms/step - loss: 203.6001 - mse: 203.6001\n",
      "2/2 [==============================] - 0s 2ms/step - loss: 275.0267 - mse: 275.0267\n",
      "1/1 [==============================] - 0s 1ms/step - loss: 421.2062 - mse: 421.2062\n",
      "2/2 [==============================] - 0s 2ms/step - loss: 1534.0452 - mse: 1534.0452\n",
      "1/1 [==============================] - 0s 2ms/step - loss: 449.6989 - mse: 449.6989\n",
      "2/2 [==============================] - 0s 1ms/step - loss: 1624.5184 - mse: 1624.5183\n",
      "1/1 [==============================] - 0s 2ms/step - loss: 128.1151 - mse: 128.1151\n",
      "Results: \n",
      "  * Mean: 364.5093505859375 \n",
      "  * Std: 177.47323450474244\n"
     ]
    }
   ],
   "source": [
    "# Import the cross validation evaluator\n",
    "from sklearn.model_selection import cross_val_score\n",
    "\n",
    "# Measure the model's performance\n",
    "results = cross_val_score(grid.best_estimator_, X_test, y_test, cv=5)\n",
    "print('Results: \\n  * Mean:', -results.mean(), '\\n  * Std:', results.std())"
   ]
  },
  {
   "cell_type": "markdown",
   "metadata": {
    "id": "QwjqAqid476m",
    "papermill": {
     "duration": 0.185497,
     "end_time": "2020-09-20T09:47:21.010657",
     "exception": false,
     "start_time": "2020-09-20T09:47:20.825160",
     "status": "completed"
    },
    "tags": []
   },
   "source": [
    "#### **Implementing hyperparameter tuning with Keras**\n",
    "Now we will go through the process of automating hyperparameter tuning using **Random Search** and **Keras**. Random Search is a hyperparameter search procedure that is performed on a defined grid of hyperparameters. However, not all hyperparameter combinations are used to train a new model, only some selected randomly, while a process of cross-validation to measure the performance of temporal models. Once the process is complete, the hyperparameters and the best performing model are chosen.\n",
    "\n",
    "Let's take a look at the implementation of Random Search with Keras, following the steps:\n",
    "\n",
    "0. Install and import all the packages needed\n",
    "1. Define the general architecture of the model through a creation function\n",
    "2. Define the hyperparameters grid to be validated\n",
    "3. Run the GridSearchCV process\n",
    "4. Print the results of the best model\n",
    "\n",
    "To execute the hyperparameter tuning procedure we will use the `keras-tuner`, a library that helps you pick the optimal set of hyperparameters for your TensorFlow model."
   ]
  },
  {
   "cell_type": "code",
   "execution_count": 23,
   "metadata": {
    "execution": {
     "iopub.execute_input": "2020-09-20T09:47:21.395725Z",
     "iopub.status.busy": "2020-09-20T09:47:21.391387Z",
     "iopub.status.idle": "2020-09-20T09:47:37.402694Z",
     "shell.execute_reply": "2020-09-20T09:47:37.401993Z"
    },
    "id": "inRKd7kY2NEY",
    "outputId": "79bfbd63-9295-473d-d45d-b099a1e737a6",
    "papermill": {
     "duration": 16.20852,
     "end_time": "2020-09-20T09:47:37.402853",
     "exception": false,
     "start_time": "2020-09-20T09:47:21.194333",
     "status": "completed"
    },
    "tags": []
   },
   "outputs": [
    {
     "name": "stdout",
     "output_type": "stream",
     "text": [
      "\u001b[33mWARNING: You are using pip version 20.2.2; however, version 20.2.3 is available.\n",
      "You should consider upgrading via the '/opt/conda/bin/python3.7 -m pip install --upgrade pip' command.\u001b[0m\n",
      "Epoch 1/10\n",
      "9/9 [==============================] - 0s 21ms/step - loss: 15995.5850 - mse: 15995.5850 - val_loss: 400.9238 - val_mse: 400.9238\n",
      "Epoch 2/10\n",
      "9/9 [==============================] - 0s 5ms/step - loss: 243.1299 - mse: 243.1299 - val_loss: 143.7250 - val_mse: 143.7250\n",
      "Epoch 3/10\n",
      "9/9 [==============================] - 0s 5ms/step - loss: 129.4534 - mse: 129.4534 - val_loss: 111.2173 - val_mse: 111.2173\n",
      "Epoch 4/10\n",
      "9/9 [==============================] - 0s 5ms/step - loss: 115.4591 - mse: 115.4591 - val_loss: 132.3604 - val_mse: 132.3604\n",
      "Epoch 5/10\n",
      "9/9 [==============================] - 0s 5ms/step - loss: 113.7317 - mse: 113.7317 - val_loss: 77.4470 - val_mse: 77.4470\n",
      "Epoch 6/10\n",
      "9/9 [==============================] - 0s 5ms/step - loss: 108.7883 - mse: 108.7883 - val_loss: 127.8454 - val_mse: 127.8454\n",
      "Epoch 7/10\n",
      "9/9 [==============================] - 0s 4ms/step - loss: 114.2132 - mse: 114.2132 - val_loss: 407.8549 - val_mse: 407.8549\n",
      "Epoch 8/10\n",
      "9/9 [==============================] - 0s 4ms/step - loss: 187.2227 - mse: 187.2227 - val_loss: 102.1976 - val_mse: 102.1976\n",
      "Epoch 9/10\n",
      "9/9 [==============================] - 0s 5ms/step - loss: 97.0540 - mse: 97.0540 - val_loss: 108.5063 - val_mse: 108.5063\n",
      "Epoch 10/10\n",
      "9/9 [==============================] - 0s 3ms/step - loss: 151.3838 - mse: 151.3838 - val_loss: 2509.7710 - val_mse: 2509.7710\n"
     ]
    },
    {
     "data": {
      "text/html": [
       "<span style=\"color:#4527A0\"><h1 style=\"font-size:18px\">Trial complete</h1></span>"
      ],
      "text/plain": [
       "<IPython.core.display.HTML object>"
      ]
     },
     "metadata": {},
     "output_type": "display_data"
    },
    {
     "data": {
      "text/html": [
       "<span style=\"color:#4527A0\"><h1 style=\"font-size:18px\">Trial summary</h1></span>"
      ],
      "text/plain": [
       "<IPython.core.display.HTML object>"
      ]
     },
     "metadata": {},
     "output_type": "display_data"
    },
    {
     "data": {
      "text/html": [
       "<span style=\"color:cyan\"> |-Trial ID: b3a2d3cf4475b7cbe176efd8d1b0d4dd</span>"
      ],
      "text/plain": [
       "<IPython.core.display.HTML object>"
      ]
     },
     "metadata": {},
     "output_type": "display_data"
    },
    {
     "data": {
      "text/html": [
       "<span style=\"color:cyan\"> |-Score: 97.05403900146484</span>"
      ],
      "text/plain": [
       "<IPython.core.display.HTML object>"
      ]
     },
     "metadata": {},
     "output_type": "display_data"
    },
    {
     "data": {
      "text/html": [
       "<span style=\"color:cyan\"> |-Best step: 0</span>"
      ],
      "text/plain": [
       "<IPython.core.display.HTML object>"
      ]
     },
     "metadata": {},
     "output_type": "display_data"
    },
    {
     "data": {
      "text/html": [
       "<span style=\"color:#7E57C2\"><h2 style=\"font-size:16px\">Hyperparameters:</h2></span>"
      ],
      "text/plain": [
       "<IPython.core.display.HTML object>"
      ]
     },
     "metadata": {},
     "output_type": "display_data"
    },
    {
     "data": {
      "text/html": [
       "<span style=\"color:cyan\"> |-learning_rate: 0.1</span>"
      ],
      "text/plain": [
       "<IPython.core.display.HTML object>"
      ]
     },
     "metadata": {},
     "output_type": "display_data"
    },
    {
     "name": "stdout",
     "output_type": "stream",
     "text": [
      "Epoch 1/10\n",
      "9/9 [==============================] - 0s 18ms/step - loss: 86.3968 - mse: 86.3968 - val_loss: 51.8794 - val_mse: 51.8794\n",
      "Epoch 2/10\n",
      "9/9 [==============================] - 0s 5ms/step - loss: 83.4389 - mse: 83.4389 - val_loss: 51.1680 - val_mse: 51.1680\n",
      "Epoch 3/10\n",
      "9/9 [==============================] - 0s 5ms/step - loss: 82.6592 - mse: 82.6592 - val_loss: 50.5801 - val_mse: 50.5801\n",
      "Epoch 4/10\n",
      "9/9 [==============================] - 0s 5ms/step - loss: 82.0819 - mse: 82.0819 - val_loss: 50.7567 - val_mse: 50.7567\n",
      "Epoch 5/10\n",
      "9/9 [==============================] - 0s 5ms/step - loss: 81.5479 - mse: 81.5479 - val_loss: 49.4640 - val_mse: 49.4640\n",
      "Epoch 6/10\n",
      "9/9 [==============================] - 0s 5ms/step - loss: 81.1740 - mse: 81.1740 - val_loss: 47.1690 - val_mse: 47.1690\n",
      "Epoch 7/10\n",
      "9/9 [==============================] - 0s 5ms/step - loss: 80.1145 - mse: 80.1145 - val_loss: 48.3022 - val_mse: 48.3022\n",
      "Epoch 8/10\n",
      "9/9 [==============================] - 0s 5ms/step - loss: 80.0490 - mse: 80.0490 - val_loss: 46.4900 - val_mse: 46.4900\n",
      "Epoch 9/10\n",
      "9/9 [==============================] - 0s 5ms/step - loss: 79.2298 - mse: 79.2298 - val_loss: 45.4465 - val_mse: 45.4465\n",
      "Epoch 10/10\n",
      "9/9 [==============================] - 0s 4ms/step - loss: 78.8037 - mse: 78.8037 - val_loss: 46.1167 - val_mse: 46.1167\n"
     ]
    },
    {
     "data": {
      "text/html": [
       "<span style=\"color:#4527A0\"><h1 style=\"font-size:18px\">Trial complete</h1></span>"
      ],
      "text/plain": [
       "<IPython.core.display.HTML object>"
      ]
     },
     "metadata": {},
     "output_type": "display_data"
    },
    {
     "data": {
      "text/html": [
       "<span style=\"color:#4527A0\"><h1 style=\"font-size:18px\">Trial summary</h1></span>"
      ],
      "text/plain": [
       "<IPython.core.display.HTML object>"
      ]
     },
     "metadata": {},
     "output_type": "display_data"
    },
    {
     "data": {
      "text/html": [
       "<span style=\"color:cyan\"> |-Trial ID: a34c4924b5eb640b49b4fda81c59d120</span>"
      ],
      "text/plain": [
       "<IPython.core.display.HTML object>"
      ]
     },
     "metadata": {},
     "output_type": "display_data"
    },
    {
     "data": {
      "text/html": [
       "<span style=\"color:cyan\"> |-Score: 78.80366516113281</span>"
      ],
      "text/plain": [
       "<IPython.core.display.HTML object>"
      ]
     },
     "metadata": {},
     "output_type": "display_data"
    },
    {
     "data": {
      "text/html": [
       "<span style=\"color:cyan\"> |-Best step: 0</span>"
      ],
      "text/plain": [
       "<IPython.core.display.HTML object>"
      ]
     },
     "metadata": {},
     "output_type": "display_data"
    },
    {
     "data": {
      "text/html": [
       "<span style=\"color:#7E57C2\"><h2 style=\"font-size:16px\">Hyperparameters:</h2></span>"
      ],
      "text/plain": [
       "<IPython.core.display.HTML object>"
      ]
     },
     "metadata": {},
     "output_type": "display_data"
    },
    {
     "data": {
      "text/html": [
       "<span style=\"color:cyan\"> |-learning_rate: 0.0001</span>"
      ],
      "text/plain": [
       "<IPython.core.display.HTML object>"
      ]
     },
     "metadata": {},
     "output_type": "display_data"
    },
    {
     "name": "stdout",
     "output_type": "stream",
     "text": [
      "Epoch 1/10\n",
      "9/9 [==============================] - 0s 18ms/step - loss: 2715.5757 - mse: 2715.5757 - val_loss: 985.2543 - val_mse: 985.2543\n",
      "Epoch 2/10\n",
      "9/9 [==============================] - 0s 5ms/step - loss: 685.2853 - mse: 685.2853 - val_loss: 420.7710 - val_mse: 420.7710\n",
      "Epoch 3/10\n",
      "9/9 [==============================] - 0s 5ms/step - loss: 362.4228 - mse: 362.4228 - val_loss: 274.3263 - val_mse: 274.3263\n",
      "Epoch 4/10\n",
      "9/9 [==============================] - 0s 5ms/step - loss: 260.1299 - mse: 260.1299 - val_loss: 220.7665 - val_mse: 220.7665\n",
      "Epoch 5/10\n",
      "9/9 [==============================] - 0s 5ms/step - loss: 217.5934 - mse: 217.5934 - val_loss: 175.9240 - val_mse: 175.9240\n",
      "Epoch 6/10\n",
      "9/9 [==============================] - 0s 5ms/step - loss: 187.3230 - mse: 187.3230 - val_loss: 168.8460 - val_mse: 168.8460\n",
      "Epoch 7/10\n",
      "9/9 [==============================] - 0s 5ms/step - loss: 158.9925 - mse: 158.9925 - val_loss: 125.4687 - val_mse: 125.4687\n",
      "Epoch 8/10\n",
      "9/9 [==============================] - 0s 5ms/step - loss: 143.9251 - mse: 143.9251 - val_loss: 160.7995 - val_mse: 160.7995\n",
      "Epoch 9/10\n",
      "9/9 [==============================] - 0s 5ms/step - loss: 127.4551 - mse: 127.4551 - val_loss: 95.5168 - val_mse: 95.5168\n",
      "Epoch 10/10\n",
      "9/9 [==============================] - 0s 5ms/step - loss: 110.4799 - mse: 110.4799 - val_loss: 166.4000 - val_mse: 166.4000\n"
     ]
    },
    {
     "data": {
      "text/html": [
       "<span style=\"color:#4527A0\"><h1 style=\"font-size:18px\">Trial complete</h1></span>"
      ],
      "text/plain": [
       "<IPython.core.display.HTML object>"
      ]
     },
     "metadata": {},
     "output_type": "display_data"
    },
    {
     "data": {
      "text/html": [
       "<span style=\"color:#4527A0\"><h1 style=\"font-size:18px\">Trial summary</h1></span>"
      ],
      "text/plain": [
       "<IPython.core.display.HTML object>"
      ]
     },
     "metadata": {},
     "output_type": "display_data"
    },
    {
     "data": {
      "text/html": [
       "<span style=\"color:cyan\"> |-Trial ID: 511b933dfd7f5046189581332da2cdc8</span>"
      ],
      "text/plain": [
       "<IPython.core.display.HTML object>"
      ]
     },
     "metadata": {},
     "output_type": "display_data"
    },
    {
     "data": {
      "text/html": [
       "<span style=\"color:cyan\"> |-Score: 110.4798812866211</span>"
      ],
      "text/plain": [
       "<IPython.core.display.HTML object>"
      ]
     },
     "metadata": {},
     "output_type": "display_data"
    },
    {
     "data": {
      "text/html": [
       "<span style=\"color:cyan\"> |-Best step: 0</span>"
      ],
      "text/plain": [
       "<IPython.core.display.HTML object>"
      ]
     },
     "metadata": {},
     "output_type": "display_data"
    },
    {
     "data": {
      "text/html": [
       "<span style=\"color:#7E57C2\"><h2 style=\"font-size:16px\">Hyperparameters:</h2></span>"
      ],
      "text/plain": [
       "<IPython.core.display.HTML object>"
      ]
     },
     "metadata": {},
     "output_type": "display_data"
    },
    {
     "data": {
      "text/html": [
       "<span style=\"color:cyan\"> |-learning_rate: 0.001</span>"
      ],
      "text/plain": [
       "<IPython.core.display.HTML object>"
      ]
     },
     "metadata": {},
     "output_type": "display_data"
    },
    {
     "name": "stdout",
     "output_type": "stream",
     "text": [
      "Epoch 1/10\n",
      "9/9 [==============================] - 0s 18ms/step - loss: 1179.3081 - mse: 1179.3081 - val_loss: 1231.6506 - val_mse: 1231.6506\n",
      "Epoch 2/10\n",
      "9/9 [==============================] - 0s 5ms/step - loss: 265.7677 - mse: 265.7677 - val_loss: 60.1055 - val_mse: 60.1055\n",
      "Epoch 3/10\n",
      "9/9 [==============================] - 0s 6ms/step - loss: 107.1426 - mse: 107.1426 - val_loss: 234.0481 - val_mse: 234.0481\n",
      "Epoch 4/10\n",
      "9/9 [==============================] - 0s 4ms/step - loss: 197.8277 - mse: 197.8277 - val_loss: 538.3021 - val_mse: 538.3021\n",
      "Epoch 5/10\n",
      "9/9 [==============================] - 0s 4ms/step - loss: 209.3933 - mse: 209.3933 - val_loss: 231.1455 - val_mse: 231.1455\n",
      "Epoch 6/10\n",
      "9/9 [==============================] - 0s 4ms/step - loss: 128.6197 - mse: 128.6197 - val_loss: 534.9372 - val_mse: 534.9372\n",
      "Epoch 7/10\n",
      "9/9 [==============================] - 0s 4ms/step - loss: 212.0093 - mse: 212.0093 - val_loss: 300.6218 - val_mse: 300.6218\n",
      "Epoch 8/10\n",
      "9/9 [==============================] - 0s 4ms/step - loss: 151.5508 - mse: 151.5508 - val_loss: 255.9537 - val_mse: 255.9537\n",
      "Epoch 9/10\n",
      "9/9 [==============================] - 0s 4ms/step - loss: 120.9758 - mse: 120.9758 - val_loss: 38.8595 - val_mse: 38.8595\n",
      "Epoch 10/10\n",
      "9/9 [==============================] - 0s 5ms/step - loss: 105.9324 - mse: 105.9324 - val_loss: 561.0918 - val_mse: 561.0918\n"
     ]
    },
    {
     "data": {
      "text/html": [
       "<span style=\"color:#4527A0\"><h1 style=\"font-size:18px\">Trial complete</h1></span>"
      ],
      "text/plain": [
       "<IPython.core.display.HTML object>"
      ]
     },
     "metadata": {},
     "output_type": "display_data"
    },
    {
     "data": {
      "text/html": [
       "<span style=\"color:#4527A0\"><h1 style=\"font-size:18px\">Trial summary</h1></span>"
      ],
      "text/plain": [
       "<IPython.core.display.HTML object>"
      ]
     },
     "metadata": {},
     "output_type": "display_data"
    },
    {
     "data": {
      "text/html": [
       "<span style=\"color:cyan\"> |-Trial ID: 57defe9c365787b65c88a18864532a5f</span>"
      ],
      "text/plain": [
       "<IPython.core.display.HTML object>"
      ]
     },
     "metadata": {},
     "output_type": "display_data"
    },
    {
     "data": {
      "text/html": [
       "<span style=\"color:cyan\"> |-Score: 105.932373046875</span>"
      ],
      "text/plain": [
       "<IPython.core.display.HTML object>"
      ]
     },
     "metadata": {},
     "output_type": "display_data"
    },
    {
     "data": {
      "text/html": [
       "<span style=\"color:cyan\"> |-Best step: 0</span>"
      ],
      "text/plain": [
       "<IPython.core.display.HTML object>"
      ]
     },
     "metadata": {},
     "output_type": "display_data"
    },
    {
     "data": {
      "text/html": [
       "<span style=\"color:#7E57C2\"><h2 style=\"font-size:16px\">Hyperparameters:</h2></span>"
      ],
      "text/plain": [
       "<IPython.core.display.HTML object>"
      ]
     },
     "metadata": {},
     "output_type": "display_data"
    },
    {
     "data": {
      "text/html": [
       "<span style=\"color:cyan\"> |-learning_rate: 0.01</span>"
      ],
      "text/plain": [
       "<IPython.core.display.HTML object>"
      ]
     },
     "metadata": {},
     "output_type": "display_data"
    }
   ],
   "source": [
    "# ----------------------------- Functional Tuning - Option 2: using Keras Tuner ------------------------------\n",
    "# Goal: tune the learning rate\n",
    "\n",
    "# 0. Install and import all the packages needed\n",
    "!pip install -q -U keras-tuner\n",
    "import kerastuner as kt\n",
    "\n",
    "# 1. Define the general architecture of the model through a creation user-defined function\n",
    "def model_builder(hp):\n",
    "  model = Sequential()\n",
    "  model.add(Dense(10, activation='relu', input_shape=(n_features,)))\n",
    "  model.add(Dense(8, activation='relu'))\n",
    "  model.add(Dense(1))\n",
    "  hp_learning_rate = hp.Choice('learning_rate', values = [1e-1, 1e-2, 1e-3, 1e-4]) # Tuning the learning rate (four different values to test: 0.1, 0.01, 0.001, 0.0001)\n",
    "  optimizer = RMSprop(learning_rate = hp_learning_rate)                            # Defining the optimizer\n",
    "  model.compile(loss='mse',metrics=['mse'], optimizer=optimizer)                   # Compiling the model \n",
    "  return model                                                                     # Returning the defined model\n",
    "\n",
    "# 2. Define the hyperparameters grid to be validated\n",
    "tuner_rs = kt.RandomSearch(\n",
    "              model_builder,                # Takes hyperparameters (hp) and returns a Model instance\n",
    "              objective = 'mse',            # Name of model metric to minimize or maximize\n",
    "              seed = 42,                    # Random seed for replication purposes\n",
    "              max_trials = 5,               # Total number of trials (model configurations) to test at most. Note that the oracle may interrupt the search before max_trial models have been tested.\n",
    "              directory='random_search')    # Path to the working directory (relative).\n",
    "\n",
    "# 3. Run the GridSearchCV process\n",
    "tuner_rs.search(X_train, y_train, epochs=10, validation_split=0.2, verbose=1)"
   ]
  },
  {
   "cell_type": "markdown",
   "metadata": {
    "id": "7jJdaqyeSsn0",
    "papermill": {
     "duration": 0.346861,
     "end_time": "2020-09-20T09:47:38.095479",
     "exception": false,
     "start_time": "2020-09-20T09:47:37.748618",
     "status": "completed"
    },
    "tags": []
   },
   "source": [
    "The iterative hyperparameter optimization process that has been completed has gone through the four defined Learning rate values (0.1, 0.01, 0001, and 0.0001), running a 10-epochs training processo per learning rate, with a validation set of 20% of the general dataset. \n",
    "\n",
    "Let's see the summary of the hyperparameter optimization process:"
   ]
  },
  {
   "cell_type": "code",
   "execution_count": 24,
   "metadata": {
    "execution": {
     "iopub.execute_input": "2020-09-20T09:47:38.787683Z",
     "iopub.status.busy": "2020-09-20T09:47:38.786744Z",
     "iopub.status.idle": "2020-09-20T09:47:38.840228Z",
     "shell.execute_reply": "2020-09-20T09:47:38.840761Z"
    },
    "id": "gRy9Aaby_dQt",
    "outputId": "2af1db5e-1e08-4a73-9381-a5827d057dca",
    "papermill": {
     "duration": 0.403239,
     "end_time": "2020-09-20T09:47:38.840948",
     "exception": false,
     "start_time": "2020-09-20T09:47:38.437709",
     "status": "completed"
    },
    "tags": []
   },
   "outputs": [
    {
     "data": {
      "text/html": [
       "<span style=\"color:#4527A0\"><h1 style=\"font-size:18px\">Results summary</h1></span>"
      ],
      "text/plain": [
       "<IPython.core.display.HTML object>"
      ]
     },
     "metadata": {},
     "output_type": "display_data"
    },
    {
     "data": {
      "text/html": [
       "<span style=\"color:cyan\"> |-Results in random_search/untitled_project</span>"
      ],
      "text/plain": [
       "<IPython.core.display.HTML object>"
      ]
     },
     "metadata": {},
     "output_type": "display_data"
    },
    {
     "data": {
      "text/html": [
       "<span style=\"color:cyan\"> |-Showing 10 best trials</span>"
      ],
      "text/plain": [
       "<IPython.core.display.HTML object>"
      ]
     },
     "metadata": {},
     "output_type": "display_data"
    },
    {
     "data": {
      "text/html": [
       "<span style=\"color:cyan\"> |-Objective(name='mse', direction='min')</span>"
      ],
      "text/plain": [
       "<IPython.core.display.HTML object>"
      ]
     },
     "metadata": {},
     "output_type": "display_data"
    },
    {
     "data": {
      "text/html": [
       "<span style=\"color:#4527A0\"><h1 style=\"font-size:18px\">Trial summary</h1></span>"
      ],
      "text/plain": [
       "<IPython.core.display.HTML object>"
      ]
     },
     "metadata": {},
     "output_type": "display_data"
    },
    {
     "data": {
      "text/html": [
       "<span style=\"color:cyan\"> |-Trial ID: a34c4924b5eb640b49b4fda81c59d120</span>"
      ],
      "text/plain": [
       "<IPython.core.display.HTML object>"
      ]
     },
     "metadata": {},
     "output_type": "display_data"
    },
    {
     "data": {
      "text/html": [
       "<span style=\"color:cyan\"> |-Score: 78.80366516113281</span>"
      ],
      "text/plain": [
       "<IPython.core.display.HTML object>"
      ]
     },
     "metadata": {},
     "output_type": "display_data"
    },
    {
     "data": {
      "text/html": [
       "<span style=\"color:cyan\"> |-Best step: 0</span>"
      ],
      "text/plain": [
       "<IPython.core.display.HTML object>"
      ]
     },
     "metadata": {},
     "output_type": "display_data"
    },
    {
     "data": {
      "text/html": [
       "<span style=\"color:#7E57C2\"><h2 style=\"font-size:16px\">Hyperparameters:</h2></span>"
      ],
      "text/plain": [
       "<IPython.core.display.HTML object>"
      ]
     },
     "metadata": {},
     "output_type": "display_data"
    },
    {
     "data": {
      "text/html": [
       "<span style=\"color:cyan\"> |-learning_rate: 0.0001</span>"
      ],
      "text/plain": [
       "<IPython.core.display.HTML object>"
      ]
     },
     "metadata": {},
     "output_type": "display_data"
    },
    {
     "data": {
      "text/html": [
       "<span style=\"color:#4527A0\"><h1 style=\"font-size:18px\">Trial summary</h1></span>"
      ],
      "text/plain": [
       "<IPython.core.display.HTML object>"
      ]
     },
     "metadata": {},
     "output_type": "display_data"
    },
    {
     "data": {
      "text/html": [
       "<span style=\"color:cyan\"> |-Trial ID: b3a2d3cf4475b7cbe176efd8d1b0d4dd</span>"
      ],
      "text/plain": [
       "<IPython.core.display.HTML object>"
      ]
     },
     "metadata": {},
     "output_type": "display_data"
    },
    {
     "data": {
      "text/html": [
       "<span style=\"color:cyan\"> |-Score: 97.05403900146484</span>"
      ],
      "text/plain": [
       "<IPython.core.display.HTML object>"
      ]
     },
     "metadata": {},
     "output_type": "display_data"
    },
    {
     "data": {
      "text/html": [
       "<span style=\"color:cyan\"> |-Best step: 0</span>"
      ],
      "text/plain": [
       "<IPython.core.display.HTML object>"
      ]
     },
     "metadata": {},
     "output_type": "display_data"
    },
    {
     "data": {
      "text/html": [
       "<span style=\"color:#7E57C2\"><h2 style=\"font-size:16px\">Hyperparameters:</h2></span>"
      ],
      "text/plain": [
       "<IPython.core.display.HTML object>"
      ]
     },
     "metadata": {},
     "output_type": "display_data"
    },
    {
     "data": {
      "text/html": [
       "<span style=\"color:cyan\"> |-learning_rate: 0.1</span>"
      ],
      "text/plain": [
       "<IPython.core.display.HTML object>"
      ]
     },
     "metadata": {},
     "output_type": "display_data"
    },
    {
     "data": {
      "text/html": [
       "<span style=\"color:#4527A0\"><h1 style=\"font-size:18px\">Trial summary</h1></span>"
      ],
      "text/plain": [
       "<IPython.core.display.HTML object>"
      ]
     },
     "metadata": {},
     "output_type": "display_data"
    },
    {
     "data": {
      "text/html": [
       "<span style=\"color:cyan\"> |-Trial ID: 57defe9c365787b65c88a18864532a5f</span>"
      ],
      "text/plain": [
       "<IPython.core.display.HTML object>"
      ]
     },
     "metadata": {},
     "output_type": "display_data"
    },
    {
     "data": {
      "text/html": [
       "<span style=\"color:cyan\"> |-Score: 105.932373046875</span>"
      ],
      "text/plain": [
       "<IPython.core.display.HTML object>"
      ]
     },
     "metadata": {},
     "output_type": "display_data"
    },
    {
     "data": {
      "text/html": [
       "<span style=\"color:cyan\"> |-Best step: 0</span>"
      ],
      "text/plain": [
       "<IPython.core.display.HTML object>"
      ]
     },
     "metadata": {},
     "output_type": "display_data"
    },
    {
     "data": {
      "text/html": [
       "<span style=\"color:#7E57C2\"><h2 style=\"font-size:16px\">Hyperparameters:</h2></span>"
      ],
      "text/plain": [
       "<IPython.core.display.HTML object>"
      ]
     },
     "metadata": {},
     "output_type": "display_data"
    },
    {
     "data": {
      "text/html": [
       "<span style=\"color:cyan\"> |-learning_rate: 0.01</span>"
      ],
      "text/plain": [
       "<IPython.core.display.HTML object>"
      ]
     },
     "metadata": {},
     "output_type": "display_data"
    },
    {
     "data": {
      "text/html": [
       "<span style=\"color:#4527A0\"><h1 style=\"font-size:18px\">Trial summary</h1></span>"
      ],
      "text/plain": [
       "<IPython.core.display.HTML object>"
      ]
     },
     "metadata": {},
     "output_type": "display_data"
    },
    {
     "data": {
      "text/html": [
       "<span style=\"color:cyan\"> |-Trial ID: 511b933dfd7f5046189581332da2cdc8</span>"
      ],
      "text/plain": [
       "<IPython.core.display.HTML object>"
      ]
     },
     "metadata": {},
     "output_type": "display_data"
    },
    {
     "data": {
      "text/html": [
       "<span style=\"color:cyan\"> |-Score: 110.4798812866211</span>"
      ],
      "text/plain": [
       "<IPython.core.display.HTML object>"
      ]
     },
     "metadata": {},
     "output_type": "display_data"
    },
    {
     "data": {
      "text/html": [
       "<span style=\"color:cyan\"> |-Best step: 0</span>"
      ],
      "text/plain": [
       "<IPython.core.display.HTML object>"
      ]
     },
     "metadata": {},
     "output_type": "display_data"
    },
    {
     "data": {
      "text/html": [
       "<span style=\"color:#7E57C2\"><h2 style=\"font-size:16px\">Hyperparameters:</h2></span>"
      ],
      "text/plain": [
       "<IPython.core.display.HTML object>"
      ]
     },
     "metadata": {},
     "output_type": "display_data"
    },
    {
     "data": {
      "text/html": [
       "<span style=\"color:cyan\"> |-learning_rate: 0.001</span>"
      ],
      "text/plain": [
       "<IPython.core.display.HTML object>"
      ]
     },
     "metadata": {},
     "output_type": "display_data"
    }
   ],
   "source": [
    "# 4.1. Print the summary results of the hyperparameter tuning procedure\n",
    "tuner_rs.results_summary()"
   ]
  },
  {
   "cell_type": "markdown",
   "metadata": {
    "id": "pazHK2p6TzEo",
    "papermill": {
     "duration": 0.360261,
     "end_time": "2020-09-20T09:47:39.563594",
     "exception": false,
     "start_time": "2020-09-20T09:47:39.203333",
     "status": "completed"
    },
    "tags": []
   },
   "source": [
    "The summary shows the general performance measured in MSE for each of the learning rate variations in the hyperparameter tuning process. The variations are sorted from lowest to highest performance, which is why we see that the model with the best performance is the one with a learning rate of 0.01, and the worst model the one with a learning rate of 0.0001. This performance is due to the Gradient Descent process. A balance must be sought in the learning rate value, which allows finding the best regression coefficients for which the loss is the minimum.\n",
    "\n",
    "Let's now look at the general performance of the model, evaluated with our testing set. We access the best model (model in position 0) by accessing the `get_best_models(num_models = 1)[0]`, where `num_models` refers to the number of models to extract and the `0` index to the index where the extraction of the models begins, which in this case will be only the best one. Then we evaluate the model using the `evalate()` function and our testing set (features (`X_test`) and real target values (`y_test`)):"
   ]
  },
  {
   "cell_type": "code",
   "execution_count": 25,
   "metadata": {
    "execution": {
     "iopub.execute_input": "2020-09-20T09:47:40.447699Z",
     "iopub.status.busy": "2020-09-20T09:47:40.297382Z",
     "iopub.status.idle": "2020-09-20T09:47:40.731999Z",
     "shell.execute_reply": "2020-09-20T09:47:40.731241Z"
    },
    "id": "Rq_625b19g6P",
    "outputId": "72326de4-7d9c-4648-b45c-27ac8224154c",
    "papermill": {
     "duration": 0.807813,
     "end_time": "2020-09-20T09:47:40.732126",
     "exception": false,
     "start_time": "2020-09-20T09:47:39.924313",
     "status": "completed"
    },
    "tags": []
   },
   "outputs": [
    {
     "name": "stdout",
     "output_type": "stream",
     "text": [
      "3/3 [==============================] - 0s 2ms/step - loss: 54.8566 - mse: 54.8566\n"
     ]
    },
    {
     "data": {
      "text/plain": [
       "[54.85664367675781, 54.85664367675781]"
      ]
     },
     "execution_count": 25,
     "metadata": {},
     "output_type": "execute_result"
    }
   ],
   "source": [
    "# 4.2. Print the results of the best model\n",
    "best_model = tuner_rs.get_best_models(num_models=1)[0]\n",
    "best_model.evaluate(X_test, y_test)"
   ]
  },
  {
   "cell_type": "markdown",
   "metadata": {
    "id": "3wYL0qp4fTv-",
    "papermill": {
     "duration": 0.429002,
     "end_time": "2020-09-20T09:47:41.524525",
     "exception": false,
     "start_time": "2020-09-20T09:47:41.095523",
     "status": "completed"
    },
    "tags": []
   },
   "source": [
    "#### 5. Make a Prediction\n",
    "Making a prediction is the final step in the life-cycle. It is why we wanted the model in the first place.\n",
    "\n",
    "It requires you have new data for which a prediction is required, e.g. where you do not have the target values.\n",
    "\n",
    "From an API perspective, you simply call a function to make a prediction of a class label, probability, or numerical value: whatever you designed your model to predict.\n",
    "\n",
    "We have our new test data located at the given github location:\n",
    "\n",
    "https://raw.githubusercontent.com/dphi-official/Datasets/master/Boston_Housing/Testing_set_boston.csv\n",
    "\n"
   ]
  },
  {
   "cell_type": "code",
   "execution_count": 26,
   "metadata": {
    "execution": {
     "iopub.execute_input": "2020-09-20T09:47:42.306648Z",
     "iopub.status.busy": "2020-09-20T09:47:42.305708Z",
     "iopub.status.idle": "2020-09-20T09:47:43.000408Z",
     "shell.execute_reply": "2020-09-20T09:47:42.999526Z"
    },
    "id": "s-fWHtrMe8U_",
    "papermill": {
     "duration": 1.103867,
     "end_time": "2020-09-20T09:47:43.000561",
     "exception": false,
     "start_time": "2020-09-20T09:47:41.896694",
     "status": "completed"
    },
    "tags": []
   },
   "outputs": [],
   "source": [
    "# Load new test data\n",
    "new_test_data = pd.read_csv('https://raw.githubusercontent.com/dphi-official/Datasets/master/Boston_Housing/Testing_set_boston.csv')"
   ]
  },
  {
   "cell_type": "code",
   "execution_count": 27,
   "metadata": {
    "execution": {
     "iopub.execute_input": "2020-09-20T09:47:43.781907Z",
     "iopub.status.busy": "2020-09-20T09:47:43.780860Z",
     "iopub.status.idle": "2020-09-20T09:47:43.822403Z",
     "shell.execute_reply": "2020-09-20T09:47:43.821654Z"
    },
    "id": "crRYu0YtiO5G",
    "papermill": {
     "duration": 0.423164,
     "end_time": "2020-09-20T09:47:43.822532",
     "exception": false,
     "start_time": "2020-09-20T09:47:43.399368",
     "status": "completed"
    },
    "tags": []
   },
   "outputs": [
    {
     "ename": "AttributeError",
     "evalue": "'KerasRegressor' object has no attribute 'model'",
     "output_type": "error",
     "traceback": [
      "\u001b[0;31m---------------------------------------------------------------------------\u001b[0m",
      "\u001b[0;31mAttributeError\u001b[0m                            Traceback (most recent call last)",
      "\u001b[0;32m<ipython-input-27-f63dfeeb583a>\u001b[0m in \u001b[0;36m<module>\u001b[0;34m\u001b[0m\n\u001b[1;32m      1\u001b[0m \u001b[0;31m# make a prediction\u001b[0m\u001b[0;34m\u001b[0m\u001b[0;34m\u001b[0m\u001b[0;34m\u001b[0m\u001b[0m\n\u001b[0;32m----> 2\u001b[0;31m \u001b[0mmodel\u001b[0m\u001b[0;34m.\u001b[0m\u001b[0mpredict\u001b[0m\u001b[0;34m(\u001b[0m\u001b[0mnew_test_data\u001b[0m\u001b[0;34m)\u001b[0m\u001b[0;34m\u001b[0m\u001b[0;34m\u001b[0m\u001b[0m\n\u001b[0m",
      "\u001b[0;32m/opt/conda/lib/python3.7/site-packages/tensorflow/python/keras/wrappers/scikit_learn.py\u001b[0m in \u001b[0;36mpredict\u001b[0;34m(self, x, **kwargs)\u001b[0m\n\u001b[1;32m    331\u001b[0m     \"\"\"\n\u001b[1;32m    332\u001b[0m     \u001b[0mkwargs\u001b[0m \u001b[0;34m=\u001b[0m \u001b[0mself\u001b[0m\u001b[0;34m.\u001b[0m\u001b[0mfilter_sk_params\u001b[0m\u001b[0;34m(\u001b[0m\u001b[0mSequential\u001b[0m\u001b[0;34m.\u001b[0m\u001b[0mpredict\u001b[0m\u001b[0;34m,\u001b[0m \u001b[0mkwargs\u001b[0m\u001b[0;34m)\u001b[0m\u001b[0;34m\u001b[0m\u001b[0;34m\u001b[0m\u001b[0m\n\u001b[0;32m--> 333\u001b[0;31m     \u001b[0;32mreturn\u001b[0m \u001b[0mnp\u001b[0m\u001b[0;34m.\u001b[0m\u001b[0msqueeze\u001b[0m\u001b[0;34m(\u001b[0m\u001b[0mself\u001b[0m\u001b[0;34m.\u001b[0m\u001b[0mmodel\u001b[0m\u001b[0;34m.\u001b[0m\u001b[0mpredict\u001b[0m\u001b[0;34m(\u001b[0m\u001b[0mx\u001b[0m\u001b[0;34m,\u001b[0m \u001b[0;34m**\u001b[0m\u001b[0mkwargs\u001b[0m\u001b[0;34m)\u001b[0m\u001b[0;34m)\u001b[0m\u001b[0;34m\u001b[0m\u001b[0;34m\u001b[0m\u001b[0m\n\u001b[0m\u001b[1;32m    334\u001b[0m \u001b[0;34m\u001b[0m\u001b[0m\n\u001b[1;32m    335\u001b[0m   \u001b[0;32mdef\u001b[0m \u001b[0mscore\u001b[0m\u001b[0;34m(\u001b[0m\u001b[0mself\u001b[0m\u001b[0;34m,\u001b[0m \u001b[0mx\u001b[0m\u001b[0;34m,\u001b[0m \u001b[0my\u001b[0m\u001b[0;34m,\u001b[0m \u001b[0;34m**\u001b[0m\u001b[0mkwargs\u001b[0m\u001b[0;34m)\u001b[0m\u001b[0;34m:\u001b[0m\u001b[0;34m\u001b[0m\u001b[0;34m\u001b[0m\u001b[0m\n",
      "\u001b[0;31mAttributeError\u001b[0m: 'KerasRegressor' object has no attribute 'model'"
     ]
    }
   ],
   "source": [
    "# make a prediction\n",
    "model.predict(new_test_data)"
   ]
  },
  {
   "cell_type": "markdown",
   "metadata": {
    "id": "UuoFhNRrn623",
    "papermill": {
     "duration": 0.368446,
     "end_time": "2020-09-20T09:47:44.560648",
     "exception": false,
     "start_time": "2020-09-20T09:47:44.192202",
     "status": "completed"
    },
    "tags": []
   },
   "source": [
    "\n",
    "**Congratulations! You have successfully build your first deep learning model and predicted the output (i.e. MEDV) of new test data.**"
   ]
  },
  {
   "cell_type": "markdown",
   "metadata": {
    "id": "c-SLnxZxp02g",
    "papermill": {
     "duration": 0.382908,
     "end_time": "2020-09-20T09:47:45.309403",
     "exception": false,
     "start_time": "2020-09-20T09:47:44.926495",
     "status": "completed"
    },
    "tags": []
   },
   "source": [
    "#### Resources\n",
    "*  [https://machinelearningmastery.com/tensorflow-tutorial-deep-learning-with-tf-keras/](https://machinelearningmastery.com/tensorflow-tutorial-deep-learning-with-tf-keras/)\n",
    "*  [https://heartbeat.fritz.ai/linear-regression-using-keras-and-python-7cee2819a60c](https://heartbeat.fritz.ai/linear-regression-using-keras-and-python-7cee2819a60c)\n",
    "*  Google Machine Learning Crash Course"
   ]
  }
 ],
 "metadata": {
  "kernelspec": {
   "display_name": "Python 3",
   "language": "python",
   "name": "python3"
  },
  "language_info": {
   "codemirror_mode": {
    "name": "ipython",
    "version": 3
   },
   "file_extension": ".py",
   "mimetype": "text/x-python",
   "name": "python",
   "nbconvert_exporter": "python",
   "pygments_lexer": "ipython3",
   "version": "3.8.5"
  },
  "papermill": {
   "duration": 100.311072,
   "end_time": "2020-09-20T09:47:45.814446",
   "environment_variables": {},
   "exception": null,
   "input_path": "__notebook__.ipynb",
   "output_path": "__notebook__.ipynb",
   "parameters": {},
   "start_time": "2020-09-20T09:46:05.503374",
   "version": "2.1.0"
  }
 },
 "nbformat": 4,
 "nbformat_minor": 4
}
