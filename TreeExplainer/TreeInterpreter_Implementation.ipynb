{
  "nbformat": 4,
  "nbformat_minor": 0,
  "metadata": {
    "colab": {
      "name": "TreeInterpreterImplementation.ipynb",
      "provenance": []
    },
    "kernelspec": {
      "name": "python3",
      "display_name": "Python 3"
    },
    "language_info": {
      "name": "python"
    }
  },
  "cells": [
    {
      "cell_type": "markdown",
      "metadata": {
        "id": "8PUeUjGkJFzh"
      },
      "source": [
        "Install TreeInterpreter <br>\n",
        "[Github](https://github.com/andosa/treeinterpreter) <br>\n",
        "[Blog Explainer](http://blog.datadive.net/interpreting-random-forests/)\n"
      ]
    },
    {
      "cell_type": "code",
      "metadata": {
        "colab": {
          "base_uri": "https://localhost:8080/"
        },
        "id": "xiPM6GctJ14T",
        "outputId": "7feeb832-fd8e-49c9-e842-4920f1930988"
      },
      "source": [
        "!pip install treeinterpreter"
      ],
      "execution_count": 1,
      "outputs": [
        {
          "output_type": "stream",
          "text": [
            "Collecting treeinterpreter\n",
            "  Downloading treeinterpreter-0.2.3-py2.py3-none-any.whl (6.0 kB)\n",
            "Installing collected packages: treeinterpreter\n",
            "Successfully installed treeinterpreter-0.2.3\n"
          ],
          "name": "stdout"
        }
      ]
    },
    {
      "cell_type": "markdown",
      "metadata": {
        "id": "GnonCA6jJSKJ"
      },
      "source": [
        "Setting up\n"
      ]
    },
    {
      "cell_type": "code",
      "metadata": {
        "id": "8-MfppLtJOW9"
      },
      "source": [
        "from treeinterpreter import treeinterpreter as ti\n",
        "from sklearn.ensemble import RandomForestRegressor\n",
        "import numpy as np\n",
        "\n",
        " #Load Dataset\n",
        "from sklearn.datasets import load_boston\n",
        "boston = load_boston()\n",
        "#Set model type as Random Forest Regressor\n",
        "rf = RandomForestRegressor()"
      ],
      "execution_count": 2,
      "outputs": []
    },
    {
      "cell_type": "markdown",
      "metadata": {
        "id": "YwIjFczqMGzh"
      },
      "source": [
        "#Calculating bias and feature prediction for two rows of data"
      ]
    },
    {
      "cell_type": "code",
      "metadata": {
        "id": "Es-iMcrjMF9n"
      },
      "source": [
        "# Lets use the first 300 rows of data\n",
        "X = boston.data[:300] # Input Features\n",
        "y = boston.target[:300] # Target Vector\n",
        "rf.fit(X, y) # Fit the model on X and y"
      ],
      "execution_count": null,
      "outputs": []
    },
    {
      "cell_type": "code",
      "metadata": {
        "colab": {
          "base_uri": "https://localhost:8080/"
        },
        "id": "Lzcvh_LDJTgl",
        "outputId": "49994efa-5d03-4942-e1d0-15b9394d1507"
      },
      "source": [
        "instances = boston.data[[300, 309]]\n",
        "#print(instances) # Two rows of houses\n",
        "print (\"Instance 0 prediction:\", rf.predict([instances[0]]))\n",
        "print (\"Instance 1 prediction:\", rf.predict([instances[1]]))"
      ],
      "execution_count": 7,
      "outputs": [
        {
          "output_type": "stream",
          "text": [
            "Instance 0 prediction: [29.851]\n",
            "Instance 1 prediction: [22.466]\n"
          ],
          "name": "stdout"
        }
      ]
    },
    {
      "cell_type": "code",
      "metadata": {
        "id": "ezuAmjSyJXS9",
        "colab": {
          "base_uri": "https://localhost:8080/"
        },
        "outputId": "9de70454-f0b6-4d28-b31f-ea6cd59a3008"
      },
      "source": [
        "# Use TreeInterpreter to caluclate bias and contributions\n",
        "prediction, bias, contributions = ti.predict(rf, instances)\n",
        "# Finding bias and contributions for each prediction \n",
        "for i in range(len(instances)):\n",
        "    print (\"Instance\", i)\n",
        "    print (\"Bias (trainset mean)\", bias[i])\n",
        "    print (\"Feature contributions:\")\n",
        "    for contri, feature in sorted(zip(contributions[i], \n",
        "                                 boston.feature_names), \n",
        "                             key=lambda x: -abs(x[0])):\n",
        "        print (feature, round(contri, 2))\n",
        "    print (\"-\"*20 )"
      ],
      "execution_count": 8,
      "outputs": [
        {
          "output_type": "stream",
          "text": [
            "Instance 0\n",
            "Bias (trainset mean) 25.55410666666667\n",
            "Feature contributions:\n",
            "RM 3.05\n",
            "LSTAT 1.46\n",
            "PTRATIO 0.53\n",
            "TAX -0.52\n",
            "DIS -0.3\n",
            "INDUS 0.21\n",
            "ZN 0.2\n",
            "CRIM -0.17\n",
            "NOX -0.14\n",
            "B -0.11\n",
            "AGE 0.05\n",
            "RAD 0.04\n",
            "CHAS -0.0\n",
            "--------------------\n",
            "Instance 1\n",
            "Bias (trainset mean) 25.55410666666667\n",
            "Feature contributions:\n",
            "RM -5.4\n",
            "LSTAT 2.25\n",
            "CRIM 0.42\n",
            "AGE -0.2\n",
            "TAX -0.2\n",
            "B -0.17\n",
            "PTRATIO 0.09\n",
            "RAD 0.05\n",
            "DIS 0.04\n",
            "NOX 0.03\n",
            "INDUS 0.02\n",
            "CHAS -0.01\n",
            "ZN 0.0\n",
            "--------------------\n"
          ],
          "name": "stdout"
        }
      ]
    },
    {
      "cell_type": "markdown",
      "metadata": {
        "id": "FxwbWJ-tLcIA"
      },
      "source": [
        "Verifiying the methodology by - <br>\n",
        "Bias + Contribution = Prediction <br>\n",
        "Which proves correct. ( As seen by comapring with previously calculated values)"
      ]
    },
    {
      "cell_type": "code",
      "metadata": {
        "id": "IeqGa5m2JdKI",
        "colab": {
          "base_uri": "https://localhost:8080/"
        },
        "outputId": "94d630fc-92ec-4fa3-a196-8493ed15b925"
      },
      "source": [
        "print (\"Prediction: \",prediction)\n",
        "print (\"Addition: \",bias + np.sum(contributions, axis=1))"
      ],
      "execution_count": 12,
      "outputs": [
        {
          "output_type": "stream",
          "text": [
            "Prediction:  [[29.851]\n",
            " [22.466]]\n",
            "Addition:  [29.851 22.466]\n"
          ],
          "name": "stdout"
        }
      ]
    },
    {
      "cell_type": "markdown",
      "metadata": {
        "id": "jyFz6oK0L2fH"
      },
      "source": [
        "# Calculating feature contributions of the whole model"
      ]
    },
    {
      "cell_type": "markdown",
      "metadata": {
        "id": "ZprKWP2YK7IY"
      },
      "source": [
        "\n",
        "Splitting dataset into two (~100 rows)\n",
        "\n"
      ]
    },
    {
      "cell_type": "code",
      "metadata": {
        "id": "-vfLx0Y-Jdrx",
        "colab": {
          "base_uri": "https://localhost:8080/"
        },
        "outputId": "73d3b9d6-0837-43e5-b0fa-774f1d962265"
      },
      "source": [
        "ds1 = boston.data[300:400]\n",
        "ds2 = boston.data[400:]\n",
        " \n",
        "print (np.mean(rf.predict(ds1)))\n",
        "print (np.mean(rf.predict(ds2)))"
      ],
      "execution_count": 13,
      "outputs": [
        {
          "output_type": "stream",
          "text": [
            "22.15354\n",
            "18.142566037735847\n"
          ],
          "name": "stdout"
        }
      ]
    },
    {
      "cell_type": "markdown",
      "metadata": {
        "id": "ygeNT2-4LPf_"
      },
      "source": [
        "Predicting biases and contributions for both"
      ]
    },
    {
      "cell_type": "code",
      "metadata": {
        "id": "Aq2uRwdNJglp"
      },
      "source": [
        "prediction1, bias1, contributions1 = ti.predict(rf, ds1)\n",
        "prediction2, bias2, contributions2 = ti.predict(rf, ds2)"
      ],
      "execution_count": 14,
      "outputs": []
    },
    {
      "cell_type": "markdown",
      "metadata": {
        "id": "VkzcKpgiMUJY"
      },
      "source": [
        "Calculcating average contributions for each feature"
      ]
    },
    {
      "cell_type": "code",
      "metadata": {
        "id": "hEKCukIwJmuh"
      },
      "source": [
        "totalc1 = np.mean(contributions1, axis=0) \n",
        "totalc2 = np.mean(contributions2, axis=0) "
      ],
      "execution_count": 15,
      "outputs": []
    },
    {
      "cell_type": "markdown",
      "metadata": {
        "id": "o1n2-IpijqAa"
      },
      "source": [
        "Verifying"
      ]
    },
    {
      "cell_type": "code",
      "metadata": {
        "id": "Jh5kt4GEJnYA",
        "colab": {
          "base_uri": "https://localhost:8080/"
        },
        "outputId": "57252431-4e3a-4e25-968c-1821779880a6"
      },
      "source": [
        "print (np.sum(totalc1 - totalc2))\n",
        "print (np.mean(prediction1) - np.mean(prediction2))"
      ],
      "execution_count": 16,
      "outputs": [
        {
          "output_type": "stream",
          "text": [
            "4.010973962264151\n",
            "4.010973962264153\n"
          ],
          "name": "stdout"
        }
      ]
    },
    {
      "cell_type": "markdown",
      "metadata": {
        "id": "Ji8-gV1yMrLo"
      },
      "source": [
        "The sum of the feature contribution differences should be equal to the difference in average prediction"
      ]
    },
    {
      "cell_type": "code",
      "metadata": {
        "id": "h50LHU9pJpNA",
        "colab": {
          "base_uri": "https://localhost:8080/"
        },
        "outputId": "186c31bd-a77e-4bf8-9f07-29f6dfe3105c"
      },
      "source": [
        "for c, feature in sorted(zip(totalc1 - totalc2, \n",
        "                             boston.feature_names), reverse=True):\n",
        "    print (feature, round(c, 2))"
      ],
      "execution_count": 17,
      "outputs": [
        {
          "output_type": "stream",
          "text": [
            "LSTAT 2.66\n",
            "CRIM 0.63\n",
            "RM 0.47\n",
            "NOX 0.11\n",
            "PTRATIO 0.09\n",
            "AGE 0.08\n",
            "B 0.07\n",
            "TAX 0.02\n",
            "ZN 0.01\n",
            "INDUS 0.0\n",
            "CHAS -0.01\n",
            "RAD -0.03\n",
            "DIS -0.1\n"
          ],
          "name": "stdout"
        }
      ]
    }
  ]
}