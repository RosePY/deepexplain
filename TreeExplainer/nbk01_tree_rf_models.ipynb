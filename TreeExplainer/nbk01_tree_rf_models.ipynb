{
 "cells": [
  {
   "cell_type": "markdown",
   "id": "a1221d3a-5e47-4a3c-ab81-df49eae1e38b",
   "metadata": {
    "id": "NmP7x85xcxkS",
    "papermill": {
     "duration": 0.05198,
     "end_time": "2020-09-20T09:46:12.053115",
     "exception": false,
     "start_time": "2020-09-20T09:46:12.001135",
     "status": "completed"
    },
    "tags": []
   },
   "source": [
    "## About the Dataset\n",
    "We will be working on a data set that comes from the real estate industry in Boston (US). This database contains 14 attributes. The target variable refers to the median value of owner-occupied homes in 1000 USD's.\n",
    "\n",
    "* CRIM: per capita crime rate by town\n",
    "* ZN: proportion of residential land zoned for lots over 25,000 sq.ft.\n",
    "* INDUS: proportion of non-retail business acres per town\n",
    "* CHAS: Charles River dummy variable (= 1 if tract bounds river; 0 otherwise)\n",
    "* NOX: nitric oxides concentration (parts per 10 million)\n",
    "* RM: average number of rooms per dwelling\n",
    "* AGE: proportion of owner-occupied units built prior to 1940\n",
    "* DIS: weighted distances to five Boston employment centres\n",
    "* RAD: index of accessibility to radial highways\n",
    "* TAX: full-value property-tax rate per 10,000 USD\n",
    "* PTRATIO: pupil-teacher ratio by town\n",
    "* B: 1000(Bk - 0.63)^2 where Bk is the proportion of blacks by town\n",
    "* LSTAT: lower status of the population (%)\n",
    "* MEDV: Median value of owner-occupied homes in 1000 USD's (Target)\n"
   ]
  },
  {
   "cell_type": "code",
   "execution_count": 1,
   "id": "a22edd36-166f-4184-bb47-fb3c36c22daf",
   "metadata": {},
   "outputs": [],
   "source": [
    "import numpy as np \n",
    "import pandas as pd\n",
    "import matplotlib.pyplot as plt\n",
    "\n",
    "from sklearn.model_selection import train_test_split, RandomizedSearchCV\n",
    "from sklearn.tree import DecisionTreeRegressor\n",
    "from sklearn.ensemble import RandomForestRegressor\n",
    "from  sklearn.metrics import mean_squared_error, mean_absolute_error, explained_variance_score, r2_score\n",
    "\n",
    "import tensorflow as tf\n",
    "from tensorflow.keras import Sequential    \n",
    "from tensorflow.keras.layers import Dense\n",
    "from tensorflow.keras.callbacks import EarlyStopping\n",
    "\n",
    "import joblib"
   ]
  },
  {
   "cell_type": "markdown",
   "id": "f35cc788-9611-4ea1-9c76-33fa5f6afede",
   "metadata": {
    "id": "fY_eewx0dhHt",
    "papermill": {
     "duration": 0.045128,
     "end_time": "2020-09-20T09:46:12.446153",
     "exception": false,
     "start_time": "2020-09-20T09:46:12.401025",
     "status": "completed"
    },
    "tags": []
   },
   "source": [
    "## Loading Data"
   ]
  },
  {
   "cell_type": "code",
   "execution_count": 2,
   "id": "89de940b-9da3-410d-a1a2-9af92ead03e9",
   "metadata": {},
   "outputs": [],
   "source": [
    "columns = ['CRIM', 'ZN', 'INDUS', 'CHAS', 'NOX', 'RM', 'AGE', 'DIS', 'RAD', 'TAX','PTRATIO', 'B', 'LSTAT', 'PRICE']"
   ]
  },
  {
   "cell_type": "code",
   "execution_count": 3,
   "id": "551d1cbd-d62d-4d6e-9754-6bf61c9fe4f9",
   "metadata": {
    "id": "7zlSaTd2W9rt",
    "papermill": {
     "duration": 0.920676,
     "end_time": "2020-09-20T09:46:13.412860",
     "exception": false,
     "start_time": "2020-09-20T09:46:12.492184",
     "status": "completed"
    },
    "tags": []
   },
   "outputs": [
    {
     "data": {
      "text/html": [
       "<div>\n",
       "<style scoped>\n",
       "    .dataframe tbody tr th:only-of-type {\n",
       "        vertical-align: middle;\n",
       "    }\n",
       "\n",
       "    .dataframe tbody tr th {\n",
       "        vertical-align: top;\n",
       "    }\n",
       "\n",
       "    .dataframe thead th {\n",
       "        text-align: right;\n",
       "    }\n",
       "</style>\n",
       "<table border=\"1\" class=\"dataframe\">\n",
       "  <thead>\n",
       "    <tr style=\"text-align: right;\">\n",
       "      <th></th>\n",
       "      <th>CRIM</th>\n",
       "      <th>ZN</th>\n",
       "      <th>INDUS</th>\n",
       "      <th>CHAS</th>\n",
       "      <th>NOX</th>\n",
       "      <th>RM</th>\n",
       "      <th>AGE</th>\n",
       "      <th>DIS</th>\n",
       "      <th>RAD</th>\n",
       "      <th>TAX</th>\n",
       "      <th>PTRATIO</th>\n",
       "      <th>B</th>\n",
       "      <th>LSTAT</th>\n",
       "      <th>PRICE</th>\n",
       "    </tr>\n",
       "  </thead>\n",
       "  <tbody>\n",
       "    <tr>\n",
       "      <th>0</th>\n",
       "      <td>0.00632</td>\n",
       "      <td>18.0</td>\n",
       "      <td>2.31</td>\n",
       "      <td>0</td>\n",
       "      <td>0.538</td>\n",
       "      <td>6.575</td>\n",
       "      <td>65.2</td>\n",
       "      <td>4.0900</td>\n",
       "      <td>1</td>\n",
       "      <td>296.0</td>\n",
       "      <td>15.3</td>\n",
       "      <td>396.90</td>\n",
       "      <td>4.98</td>\n",
       "      <td>24.0</td>\n",
       "    </tr>\n",
       "    <tr>\n",
       "      <th>1</th>\n",
       "      <td>0.02731</td>\n",
       "      <td>0.0</td>\n",
       "      <td>7.07</td>\n",
       "      <td>0</td>\n",
       "      <td>0.469</td>\n",
       "      <td>6.421</td>\n",
       "      <td>78.9</td>\n",
       "      <td>4.9671</td>\n",
       "      <td>2</td>\n",
       "      <td>242.0</td>\n",
       "      <td>17.8</td>\n",
       "      <td>396.90</td>\n",
       "      <td>9.14</td>\n",
       "      <td>21.6</td>\n",
       "    </tr>\n",
       "    <tr>\n",
       "      <th>2</th>\n",
       "      <td>0.02729</td>\n",
       "      <td>0.0</td>\n",
       "      <td>7.07</td>\n",
       "      <td>0</td>\n",
       "      <td>0.469</td>\n",
       "      <td>7.185</td>\n",
       "      <td>61.1</td>\n",
       "      <td>4.9671</td>\n",
       "      <td>2</td>\n",
       "      <td>242.0</td>\n",
       "      <td>17.8</td>\n",
       "      <td>392.83</td>\n",
       "      <td>4.03</td>\n",
       "      <td>34.7</td>\n",
       "    </tr>\n",
       "    <tr>\n",
       "      <th>3</th>\n",
       "      <td>0.03237</td>\n",
       "      <td>0.0</td>\n",
       "      <td>2.18</td>\n",
       "      <td>0</td>\n",
       "      <td>0.458</td>\n",
       "      <td>6.998</td>\n",
       "      <td>45.8</td>\n",
       "      <td>6.0622</td>\n",
       "      <td>3</td>\n",
       "      <td>222.0</td>\n",
       "      <td>18.7</td>\n",
       "      <td>394.63</td>\n",
       "      <td>2.94</td>\n",
       "      <td>33.4</td>\n",
       "    </tr>\n",
       "    <tr>\n",
       "      <th>4</th>\n",
       "      <td>0.06905</td>\n",
       "      <td>0.0</td>\n",
       "      <td>2.18</td>\n",
       "      <td>0</td>\n",
       "      <td>0.458</td>\n",
       "      <td>7.147</td>\n",
       "      <td>54.2</td>\n",
       "      <td>6.0622</td>\n",
       "      <td>3</td>\n",
       "      <td>222.0</td>\n",
       "      <td>18.7</td>\n",
       "      <td>396.90</td>\n",
       "      <td>5.33</td>\n",
       "      <td>36.2</td>\n",
       "    </tr>\n",
       "    <tr>\n",
       "      <th>...</th>\n",
       "      <td>...</td>\n",
       "      <td>...</td>\n",
       "      <td>...</td>\n",
       "      <td>...</td>\n",
       "      <td>...</td>\n",
       "      <td>...</td>\n",
       "      <td>...</td>\n",
       "      <td>...</td>\n",
       "      <td>...</td>\n",
       "      <td>...</td>\n",
       "      <td>...</td>\n",
       "      <td>...</td>\n",
       "      <td>...</td>\n",
       "      <td>...</td>\n",
       "    </tr>\n",
       "    <tr>\n",
       "      <th>501</th>\n",
       "      <td>0.06263</td>\n",
       "      <td>0.0</td>\n",
       "      <td>11.93</td>\n",
       "      <td>0</td>\n",
       "      <td>0.573</td>\n",
       "      <td>6.593</td>\n",
       "      <td>69.1</td>\n",
       "      <td>2.4786</td>\n",
       "      <td>1</td>\n",
       "      <td>273.0</td>\n",
       "      <td>21.0</td>\n",
       "      <td>391.99</td>\n",
       "      <td>9.67</td>\n",
       "      <td>22.4</td>\n",
       "    </tr>\n",
       "    <tr>\n",
       "      <th>502</th>\n",
       "      <td>0.04527</td>\n",
       "      <td>0.0</td>\n",
       "      <td>11.93</td>\n",
       "      <td>0</td>\n",
       "      <td>0.573</td>\n",
       "      <td>6.120</td>\n",
       "      <td>76.7</td>\n",
       "      <td>2.2875</td>\n",
       "      <td>1</td>\n",
       "      <td>273.0</td>\n",
       "      <td>21.0</td>\n",
       "      <td>396.90</td>\n",
       "      <td>9.08</td>\n",
       "      <td>20.6</td>\n",
       "    </tr>\n",
       "    <tr>\n",
       "      <th>503</th>\n",
       "      <td>0.06076</td>\n",
       "      <td>0.0</td>\n",
       "      <td>11.93</td>\n",
       "      <td>0</td>\n",
       "      <td>0.573</td>\n",
       "      <td>6.976</td>\n",
       "      <td>91.0</td>\n",
       "      <td>2.1675</td>\n",
       "      <td>1</td>\n",
       "      <td>273.0</td>\n",
       "      <td>21.0</td>\n",
       "      <td>396.90</td>\n",
       "      <td>5.64</td>\n",
       "      <td>23.9</td>\n",
       "    </tr>\n",
       "    <tr>\n",
       "      <th>504</th>\n",
       "      <td>0.10959</td>\n",
       "      <td>0.0</td>\n",
       "      <td>11.93</td>\n",
       "      <td>0</td>\n",
       "      <td>0.573</td>\n",
       "      <td>6.794</td>\n",
       "      <td>89.3</td>\n",
       "      <td>2.3889</td>\n",
       "      <td>1</td>\n",
       "      <td>273.0</td>\n",
       "      <td>21.0</td>\n",
       "      <td>393.45</td>\n",
       "      <td>6.48</td>\n",
       "      <td>22.0</td>\n",
       "    </tr>\n",
       "    <tr>\n",
       "      <th>505</th>\n",
       "      <td>0.04741</td>\n",
       "      <td>0.0</td>\n",
       "      <td>11.93</td>\n",
       "      <td>0</td>\n",
       "      <td>0.573</td>\n",
       "      <td>6.030</td>\n",
       "      <td>80.8</td>\n",
       "      <td>2.5050</td>\n",
       "      <td>1</td>\n",
       "      <td>273.0</td>\n",
       "      <td>21.0</td>\n",
       "      <td>396.90</td>\n",
       "      <td>7.88</td>\n",
       "      <td>11.9</td>\n",
       "    </tr>\n",
       "  </tbody>\n",
       "</table>\n",
       "<p>506 rows × 14 columns</p>\n",
       "</div>"
      ],
      "text/plain": [
       "        CRIM    ZN  INDUS  CHAS    NOX     RM   AGE     DIS  RAD    TAX  \\\n",
       "0    0.00632  18.0   2.31     0  0.538  6.575  65.2  4.0900    1  296.0   \n",
       "1    0.02731   0.0   7.07     0  0.469  6.421  78.9  4.9671    2  242.0   \n",
       "2    0.02729   0.0   7.07     0  0.469  7.185  61.1  4.9671    2  242.0   \n",
       "3    0.03237   0.0   2.18     0  0.458  6.998  45.8  6.0622    3  222.0   \n",
       "4    0.06905   0.0   2.18     0  0.458  7.147  54.2  6.0622    3  222.0   \n",
       "..       ...   ...    ...   ...    ...    ...   ...     ...  ...    ...   \n",
       "501  0.06263   0.0  11.93     0  0.573  6.593  69.1  2.4786    1  273.0   \n",
       "502  0.04527   0.0  11.93     0  0.573  6.120  76.7  2.2875    1  273.0   \n",
       "503  0.06076   0.0  11.93     0  0.573  6.976  91.0  2.1675    1  273.0   \n",
       "504  0.10959   0.0  11.93     0  0.573  6.794  89.3  2.3889    1  273.0   \n",
       "505  0.04741   0.0  11.93     0  0.573  6.030  80.8  2.5050    1  273.0   \n",
       "\n",
       "     PTRATIO       B  LSTAT  PRICE  \n",
       "0       15.3  396.90   4.98   24.0  \n",
       "1       17.8  396.90   9.14   21.6  \n",
       "2       17.8  392.83   4.03   34.7  \n",
       "3       18.7  394.63   2.94   33.4  \n",
       "4       18.7  396.90   5.33   36.2  \n",
       "..       ...     ...    ...    ...  \n",
       "501     21.0  391.99   9.67   22.4  \n",
       "502     21.0  396.90   9.08   20.6  \n",
       "503     21.0  396.90   5.64   23.9  \n",
       "504     21.0  393.45   6.48   22.0  \n",
       "505     21.0  396.90   7.88   11.9  \n",
       "\n",
       "[506 rows x 14 columns]"
      ]
     },
     "execution_count": 3,
     "metadata": {},
     "output_type": "execute_result"
    }
   ],
   "source": [
    "data = pd.read_csv(\"../data/housing.csv\", delim_whitespace=True, header=None)\n",
    "data.columns = columns\n",
    "data"
   ]
  },
  {
   "cell_type": "code",
   "execution_count": 4,
   "id": "cb3ab830-0082-4928-998a-856fab0029f1",
   "metadata": {},
   "outputs": [
    {
     "name": "stdout",
     "output_type": "stream",
     "text": [
      "<class 'pandas.core.frame.DataFrame'>\n",
      "RangeIndex: 506 entries, 0 to 505\n",
      "Data columns (total 14 columns):\n",
      " #   Column   Non-Null Count  Dtype  \n",
      "---  ------   --------------  -----  \n",
      " 0   CRIM     506 non-null    float64\n",
      " 1   ZN       506 non-null    float64\n",
      " 2   INDUS    506 non-null    float64\n",
      " 3   CHAS     506 non-null    int64  \n",
      " 4   NOX      506 non-null    float64\n",
      " 5   RM       506 non-null    float64\n",
      " 6   AGE      506 non-null    float64\n",
      " 7   DIS      506 non-null    float64\n",
      " 8   RAD      506 non-null    int64  \n",
      " 9   TAX      506 non-null    float64\n",
      " 10  PTRATIO  506 non-null    float64\n",
      " 11  B        506 non-null    float64\n",
      " 12  LSTAT    506 non-null    float64\n",
      " 13  PRICE    506 non-null    float64\n",
      "dtypes: float64(12), int64(2)\n",
      "memory usage: 55.5 KB\n"
     ]
    }
   ],
   "source": [
    "data.info()"
   ]
  },
  {
   "cell_type": "code",
   "execution_count": 5,
   "id": "40c56b1b-bb7b-4b42-b5e5-6a18853f1889",
   "metadata": {},
   "outputs": [
    {
     "data": {
      "text/html": [
       "<div>\n",
       "<style scoped>\n",
       "    .dataframe tbody tr th:only-of-type {\n",
       "        vertical-align: middle;\n",
       "    }\n",
       "\n",
       "    .dataframe tbody tr th {\n",
       "        vertical-align: top;\n",
       "    }\n",
       "\n",
       "    .dataframe thead th {\n",
       "        text-align: right;\n",
       "    }\n",
       "</style>\n",
       "<table border=\"1\" class=\"dataframe\">\n",
       "  <thead>\n",
       "    <tr style=\"text-align: right;\">\n",
       "      <th></th>\n",
       "      <th>count</th>\n",
       "      <th>mean</th>\n",
       "      <th>std</th>\n",
       "      <th>min</th>\n",
       "      <th>25%</th>\n",
       "      <th>50%</th>\n",
       "      <th>75%</th>\n",
       "      <th>max</th>\n",
       "    </tr>\n",
       "  </thead>\n",
       "  <tbody>\n",
       "    <tr>\n",
       "      <th>CRIM</th>\n",
       "      <td>506.0</td>\n",
       "      <td>3.613524</td>\n",
       "      <td>8.601545</td>\n",
       "      <td>0.00632</td>\n",
       "      <td>0.082045</td>\n",
       "      <td>0.25651</td>\n",
       "      <td>3.677083</td>\n",
       "      <td>88.9762</td>\n",
       "    </tr>\n",
       "    <tr>\n",
       "      <th>ZN</th>\n",
       "      <td>506.0</td>\n",
       "      <td>11.363636</td>\n",
       "      <td>23.322453</td>\n",
       "      <td>0.00000</td>\n",
       "      <td>0.000000</td>\n",
       "      <td>0.00000</td>\n",
       "      <td>12.500000</td>\n",
       "      <td>100.0000</td>\n",
       "    </tr>\n",
       "    <tr>\n",
       "      <th>INDUS</th>\n",
       "      <td>506.0</td>\n",
       "      <td>11.136779</td>\n",
       "      <td>6.860353</td>\n",
       "      <td>0.46000</td>\n",
       "      <td>5.190000</td>\n",
       "      <td>9.69000</td>\n",
       "      <td>18.100000</td>\n",
       "      <td>27.7400</td>\n",
       "    </tr>\n",
       "    <tr>\n",
       "      <th>CHAS</th>\n",
       "      <td>506.0</td>\n",
       "      <td>0.069170</td>\n",
       "      <td>0.253994</td>\n",
       "      <td>0.00000</td>\n",
       "      <td>0.000000</td>\n",
       "      <td>0.00000</td>\n",
       "      <td>0.000000</td>\n",
       "      <td>1.0000</td>\n",
       "    </tr>\n",
       "    <tr>\n",
       "      <th>NOX</th>\n",
       "      <td>506.0</td>\n",
       "      <td>0.554695</td>\n",
       "      <td>0.115878</td>\n",
       "      <td>0.38500</td>\n",
       "      <td>0.449000</td>\n",
       "      <td>0.53800</td>\n",
       "      <td>0.624000</td>\n",
       "      <td>0.8710</td>\n",
       "    </tr>\n",
       "    <tr>\n",
       "      <th>RM</th>\n",
       "      <td>506.0</td>\n",
       "      <td>6.284634</td>\n",
       "      <td>0.702617</td>\n",
       "      <td>3.56100</td>\n",
       "      <td>5.885500</td>\n",
       "      <td>6.20850</td>\n",
       "      <td>6.623500</td>\n",
       "      <td>8.7800</td>\n",
       "    </tr>\n",
       "    <tr>\n",
       "      <th>AGE</th>\n",
       "      <td>506.0</td>\n",
       "      <td>68.574901</td>\n",
       "      <td>28.148861</td>\n",
       "      <td>2.90000</td>\n",
       "      <td>45.025000</td>\n",
       "      <td>77.50000</td>\n",
       "      <td>94.075000</td>\n",
       "      <td>100.0000</td>\n",
       "    </tr>\n",
       "    <tr>\n",
       "      <th>DIS</th>\n",
       "      <td>506.0</td>\n",
       "      <td>3.795043</td>\n",
       "      <td>2.105710</td>\n",
       "      <td>1.12960</td>\n",
       "      <td>2.100175</td>\n",
       "      <td>3.20745</td>\n",
       "      <td>5.188425</td>\n",
       "      <td>12.1265</td>\n",
       "    </tr>\n",
       "    <tr>\n",
       "      <th>RAD</th>\n",
       "      <td>506.0</td>\n",
       "      <td>9.549407</td>\n",
       "      <td>8.707259</td>\n",
       "      <td>1.00000</td>\n",
       "      <td>4.000000</td>\n",
       "      <td>5.00000</td>\n",
       "      <td>24.000000</td>\n",
       "      <td>24.0000</td>\n",
       "    </tr>\n",
       "    <tr>\n",
       "      <th>TAX</th>\n",
       "      <td>506.0</td>\n",
       "      <td>408.237154</td>\n",
       "      <td>168.537116</td>\n",
       "      <td>187.00000</td>\n",
       "      <td>279.000000</td>\n",
       "      <td>330.00000</td>\n",
       "      <td>666.000000</td>\n",
       "      <td>711.0000</td>\n",
       "    </tr>\n",
       "    <tr>\n",
       "      <th>PTRATIO</th>\n",
       "      <td>506.0</td>\n",
       "      <td>18.455534</td>\n",
       "      <td>2.164946</td>\n",
       "      <td>12.60000</td>\n",
       "      <td>17.400000</td>\n",
       "      <td>19.05000</td>\n",
       "      <td>20.200000</td>\n",
       "      <td>22.0000</td>\n",
       "    </tr>\n",
       "    <tr>\n",
       "      <th>B</th>\n",
       "      <td>506.0</td>\n",
       "      <td>356.674032</td>\n",
       "      <td>91.294864</td>\n",
       "      <td>0.32000</td>\n",
       "      <td>375.377500</td>\n",
       "      <td>391.44000</td>\n",
       "      <td>396.225000</td>\n",
       "      <td>396.9000</td>\n",
       "    </tr>\n",
       "    <tr>\n",
       "      <th>LSTAT</th>\n",
       "      <td>506.0</td>\n",
       "      <td>12.653063</td>\n",
       "      <td>7.141062</td>\n",
       "      <td>1.73000</td>\n",
       "      <td>6.950000</td>\n",
       "      <td>11.36000</td>\n",
       "      <td>16.955000</td>\n",
       "      <td>37.9700</td>\n",
       "    </tr>\n",
       "    <tr>\n",
       "      <th>PRICE</th>\n",
       "      <td>506.0</td>\n",
       "      <td>22.532806</td>\n",
       "      <td>9.197104</td>\n",
       "      <td>5.00000</td>\n",
       "      <td>17.025000</td>\n",
       "      <td>21.20000</td>\n",
       "      <td>25.000000</td>\n",
       "      <td>50.0000</td>\n",
       "    </tr>\n",
       "  </tbody>\n",
       "</table>\n",
       "</div>"
      ],
      "text/plain": [
       "         count        mean         std        min         25%        50%  \\\n",
       "CRIM     506.0    3.613524    8.601545    0.00632    0.082045    0.25651   \n",
       "ZN       506.0   11.363636   23.322453    0.00000    0.000000    0.00000   \n",
       "INDUS    506.0   11.136779    6.860353    0.46000    5.190000    9.69000   \n",
       "CHAS     506.0    0.069170    0.253994    0.00000    0.000000    0.00000   \n",
       "NOX      506.0    0.554695    0.115878    0.38500    0.449000    0.53800   \n",
       "RM       506.0    6.284634    0.702617    3.56100    5.885500    6.20850   \n",
       "AGE      506.0   68.574901   28.148861    2.90000   45.025000   77.50000   \n",
       "DIS      506.0    3.795043    2.105710    1.12960    2.100175    3.20745   \n",
       "RAD      506.0    9.549407    8.707259    1.00000    4.000000    5.00000   \n",
       "TAX      506.0  408.237154  168.537116  187.00000  279.000000  330.00000   \n",
       "PTRATIO  506.0   18.455534    2.164946   12.60000   17.400000   19.05000   \n",
       "B        506.0  356.674032   91.294864    0.32000  375.377500  391.44000   \n",
       "LSTAT    506.0   12.653063    7.141062    1.73000    6.950000   11.36000   \n",
       "PRICE    506.0   22.532806    9.197104    5.00000   17.025000   21.20000   \n",
       "\n",
       "                75%       max  \n",
       "CRIM       3.677083   88.9762  \n",
       "ZN        12.500000  100.0000  \n",
       "INDUS     18.100000   27.7400  \n",
       "CHAS       0.000000    1.0000  \n",
       "NOX        0.624000    0.8710  \n",
       "RM         6.623500    8.7800  \n",
       "AGE       94.075000  100.0000  \n",
       "DIS        5.188425   12.1265  \n",
       "RAD       24.000000   24.0000  \n",
       "TAX      666.000000  711.0000  \n",
       "PTRATIO   20.200000   22.0000  \n",
       "B        396.225000  396.9000  \n",
       "LSTAT     16.955000   37.9700  \n",
       "PRICE     25.000000   50.0000  "
      ]
     },
     "execution_count": 5,
     "metadata": {},
     "output_type": "execute_result"
    }
   ],
   "source": [
    "data.describe().transpose()"
   ]
  },
  {
   "cell_type": "code",
   "execution_count": null,
   "id": "1d0caf93-e7d7-4697-8afc-1b0086d18c10",
   "metadata": {},
   "outputs": [],
   "source": []
  },
  {
   "cell_type": "markdown",
   "id": "80a34c56-9100-4a15-a80e-1b4067e05d3a",
   "metadata": {},
   "source": [
    "## Data preparation"
   ]
  },
  {
   "cell_type": "code",
   "execution_count": 6,
   "id": "a0321af3-56fd-4ea9-a82c-893813a3c837",
   "metadata": {},
   "outputs": [],
   "source": [
    "X = data.drop('PRICE', axis=1)\n",
    "y = data['PRICE']"
   ]
  },
  {
   "cell_type": "code",
   "execution_count": 7,
   "id": "157bcabf-4dea-4c76-8a91-d6eec6be2b7c",
   "metadata": {},
   "outputs": [],
   "source": [
    "X_train, X_test, y_train, y_test = train_test_split(X, y, test_size=0.3, random_state=42)"
   ]
  },
  {
   "cell_type": "code",
   "execution_count": 8,
   "id": "0cbf168c-c028-44fe-8f53-76030bcb452f",
   "metadata": {},
   "outputs": [
    {
     "name": "stdout",
     "output_type": "stream",
     "text": [
      "Train data: (354, 13)\n",
      "Test data: (152, 13)\n"
     ]
    }
   ],
   "source": [
    "print('Train data:', X_train.shape)\n",
    "print('Test data:', X_test.shape)"
   ]
  },
  {
   "cell_type": "code",
   "execution_count": null,
   "id": "bb48e628-ca6c-4770-9362-ef87b3718101",
   "metadata": {},
   "outputs": [],
   "source": []
  },
  {
   "cell_type": "markdown",
   "id": "272fea8c-9657-47a3-b5d2-3621b8dab63a",
   "metadata": {},
   "source": [
    "## Model definition"
   ]
  },
  {
   "cell_type": "code",
   "execution_count": 9,
   "id": "2e6005d9-8fac-4f97-b8cb-c8ba71159e43",
   "metadata": {},
   "outputs": [
    {
     "name": "stdout",
     "output_type": "stream",
     "text": [
      "Model: \"sequential\"\n",
      "_________________________________________________________________\n",
      "Layer (type)                 Output Shape              Param #   \n",
      "=================================================================\n",
      "dense (Dense)                (None, 10)                140       \n",
      "_________________________________________________________________\n",
      "dense_1 (Dense)              (None, 8)                 88        \n",
      "_________________________________________________________________\n",
      "dense_2 (Dense)              (None, 1)                 9         \n",
      "=================================================================\n",
      "Total params: 237\n",
      "Trainable params: 237\n",
      "Non-trainable params: 0\n",
      "_________________________________________________________________\n"
     ]
    }
   ],
   "source": [
    "n_features = X_train.shape[1]\n",
    "\n",
    "def create_model(n_features):\n",
    "    # define the model\n",
    "    model = Sequential()\n",
    "    model.add(Dense(10, activation='relu', input_shape=(n_features,)))\n",
    "    model.add(Dense(8, activation='relu'))\n",
    "    model.add(Dense(1))\n",
    "    \n",
    "    return model\n",
    "\n",
    "model = create_model(n_features)\n",
    "\n",
    "model.summary()"
   ]
  },
  {
   "cell_type": "code",
   "execution_count": 10,
   "id": "8f6471c4-ba5b-49ba-a38c-cd7d9efda472",
   "metadata": {},
   "outputs": [],
   "source": [
    "# Compile the model:\n",
    "optimizer = tf.keras.optimizers.Adam(learning_rate=1e-3)\n",
    "loss = tf.metrics.mean_squared_error\n",
    "       \n",
    "model.compile(optimizer=optimizer, loss=loss)"
   ]
  },
  {
   "cell_type": "code",
   "execution_count": null,
   "id": "cb78a820-df4b-4255-8ffb-a54f8978e75c",
   "metadata": {},
   "outputs": [],
   "source": []
  },
  {
   "cell_type": "markdown",
   "id": "7816552f-612e-48ce-88d2-25a8eee1d3cf",
   "metadata": {},
   "source": [
    "## Model training"
   ]
  },
  {
   "cell_type": "code",
   "execution_count": 11,
   "id": "f08f9189-034d-4c6e-aa72-8a2f714e4806",
   "metadata": {},
   "outputs": [],
   "source": [
    "epochs = 50\n",
    "callbacks = [EarlyStopping(monitor='val_loss', mode='min',\n",
    "                           patience=10,\n",
    "                           restore_best_weights=True)]"
   ]
  },
  {
   "cell_type": "code",
   "execution_count": 12,
   "id": "226f28b3-31c9-4625-bb30-4aa64a88a1e1",
   "metadata": {},
   "outputs": [
    {
     "name": "stdout",
     "output_type": "stream",
     "text": [
      "Epoch 1/50\n",
      "9/9 [==============================] - 1s 18ms/step - loss: 8743.4580 - val_loss: 6804.9146\n",
      "Epoch 2/50\n",
      "9/9 [==============================] - 0s 4ms/step - loss: 5729.0391 - val_loss: 4372.4180\n",
      "Epoch 3/50\n",
      "9/9 [==============================] - 0s 4ms/step - loss: 3624.9963 - val_loss: 2710.6475\n",
      "Epoch 4/50\n",
      "9/9 [==============================] - 0s 4ms/step - loss: 2192.6934 - val_loss: 1622.2230\n",
      "Epoch 5/50\n",
      "9/9 [==============================] - 0s 5ms/step - loss: 1282.3744 - val_loss: 928.0855\n",
      "Epoch 6/50\n",
      "9/9 [==============================] - 0s 4ms/step - loss: 703.4349 - val_loss: 521.3334\n",
      "Epoch 7/50\n",
      "9/9 [==============================] - 0s 7ms/step - loss: 386.7553 - val_loss: 294.8596\n",
      "Epoch 8/50\n",
      "9/9 [==============================] - 0s 5ms/step - loss: 220.0526 - val_loss: 182.3174\n",
      "Epoch 9/50\n",
      "9/9 [==============================] - 0s 4ms/step - loss: 140.7641 - val_loss: 133.8519\n",
      "Epoch 10/50\n",
      "9/9 [==============================] - 0s 4ms/step - loss: 109.7141 - val_loss: 116.0850\n",
      "Epoch 11/50\n",
      "9/9 [==============================] - 0s 4ms/step - loss: 100.9601 - val_loss: 110.1900\n",
      "Epoch 12/50\n",
      "9/9 [==============================] - 0s 4ms/step - loss: 98.8530 - val_loss: 108.2195\n",
      "Epoch 13/50\n",
      "9/9 [==============================] - 0s 4ms/step - loss: 97.9459 - val_loss: 107.1985\n",
      "Epoch 14/50\n",
      "9/9 [==============================] - 0s 4ms/step - loss: 97.4990 - val_loss: 106.1926\n",
      "Epoch 15/50\n",
      "9/9 [==============================] - 0s 4ms/step - loss: 96.8354 - val_loss: 105.4096\n",
      "Epoch 16/50\n",
      "9/9 [==============================] - 0s 4ms/step - loss: 96.1913 - val_loss: 104.6930\n",
      "Epoch 17/50\n",
      "9/9 [==============================] - 0s 4ms/step - loss: 95.6769 - val_loss: 104.1148\n",
      "Epoch 18/50\n",
      "9/9 [==============================] - 0s 5ms/step - loss: 95.1486 - val_loss: 103.4266\n",
      "Epoch 19/50\n",
      "9/9 [==============================] - 0s 4ms/step - loss: 94.6062 - val_loss: 102.8239\n",
      "Epoch 20/50\n",
      "9/9 [==============================] - 0s 4ms/step - loss: 94.1290 - val_loss: 102.0703\n",
      "Epoch 21/50\n",
      "9/9 [==============================] - 0s 4ms/step - loss: 93.6647 - val_loss: 101.5671\n",
      "Epoch 22/50\n",
      "9/9 [==============================] - 0s 4ms/step - loss: 93.2920 - val_loss: 100.9955\n",
      "Epoch 23/50\n",
      "9/9 [==============================] - 0s 5ms/step - loss: 92.8062 - val_loss: 100.2693\n",
      "Epoch 24/50\n",
      "9/9 [==============================] - 0s 5ms/step - loss: 92.4608 - val_loss: 99.7919\n",
      "Epoch 25/50\n",
      "9/9 [==============================] - 0s 4ms/step - loss: 91.9764 - val_loss: 99.2040\n",
      "Epoch 26/50\n",
      "9/9 [==============================] - 0s 5ms/step - loss: 91.7637 - val_loss: 98.9823\n",
      "Epoch 27/50\n",
      "9/9 [==============================] - 0s 4ms/step - loss: 91.1995 - val_loss: 98.3083\n",
      "Epoch 28/50\n",
      "9/9 [==============================] - 0s 5ms/step - loss: 90.8224 - val_loss: 97.8496\n",
      "Epoch 29/50\n",
      "9/9 [==============================] - 0s 5ms/step - loss: 90.3960 - val_loss: 97.4978\n",
      "Epoch 30/50\n",
      "9/9 [==============================] - 0s 4ms/step - loss: 89.8847 - val_loss: 96.9365\n",
      "Epoch 31/50\n",
      "9/9 [==============================] - 0s 4ms/step - loss: 89.5267 - val_loss: 96.2650\n",
      "Epoch 32/50\n",
      "9/9 [==============================] - 0s 5ms/step - loss: 89.1691 - val_loss: 96.0259\n",
      "Epoch 33/50\n",
      "9/9 [==============================] - 0s 4ms/step - loss: 88.6820 - val_loss: 95.5477\n",
      "Epoch 34/50\n",
      "9/9 [==============================] - 0s 4ms/step - loss: 88.2805 - val_loss: 94.9806\n",
      "Epoch 35/50\n",
      "9/9 [==============================] - 0s 4ms/step - loss: 87.8617 - val_loss: 94.4177\n",
      "Epoch 36/50\n",
      "9/9 [==============================] - 0s 4ms/step - loss: 87.5459 - val_loss: 94.0107\n",
      "Epoch 37/50\n",
      "9/9 [==============================] - 0s 5ms/step - loss: 87.1880 - val_loss: 93.5961\n",
      "Epoch 38/50\n",
      "9/9 [==============================] - 0s 4ms/step - loss: 86.8194 - val_loss: 93.0454\n",
      "Epoch 39/50\n",
      "9/9 [==============================] - 0s 4ms/step - loss: 86.5313 - val_loss: 92.7393\n",
      "Epoch 40/50\n",
      "9/9 [==============================] - 0s 4ms/step - loss: 86.0752 - val_loss: 92.1596\n",
      "Epoch 41/50\n",
      "9/9 [==============================] - 0s 4ms/step - loss: 85.8442 - val_loss: 91.6103\n",
      "Epoch 42/50\n",
      "9/9 [==============================] - 0s 4ms/step - loss: 85.4307 - val_loss: 91.3854\n",
      "Epoch 43/50\n",
      "9/9 [==============================] - 0s 4ms/step - loss: 85.1194 - val_loss: 90.9344\n",
      "Epoch 44/50\n",
      "9/9 [==============================] - 0s 4ms/step - loss: 84.7299 - val_loss: 90.5108\n",
      "Epoch 45/50\n",
      "9/9 [==============================] - 0s 4ms/step - loss: 84.3873 - val_loss: 90.1284\n",
      "Epoch 46/50\n",
      "9/9 [==============================] - 0s 4ms/step - loss: 84.0921 - val_loss: 89.7615\n",
      "Epoch 47/50\n",
      "9/9 [==============================] - 0s 4ms/step - loss: 83.7925 - val_loss: 89.4536\n",
      "Epoch 48/50\n",
      "9/9 [==============================] - 0s 5ms/step - loss: 83.5810 - val_loss: 89.1170\n",
      "Epoch 49/50\n",
      "9/9 [==============================] - 0s 4ms/step - loss: 83.3570 - val_loss: 88.7113\n",
      "Epoch 50/50\n",
      "9/9 [==============================] - 0s 4ms/step - loss: 83.1174 - val_loss: 88.5827\n"
     ]
    },
    {
     "data": {
      "text/plain": [
       "<tensorflow.python.keras.callbacks.History at 0x26d8dcb0940>"
      ]
     },
     "execution_count": 12,
     "metadata": {},
     "output_type": "execute_result"
    }
   ],
   "source": [
    "model.fit(X_train, y_train,\n",
    "          shuffle=True,\n",
    "          callbacks=callbacks,\n",
    "          epochs=epochs, validation_split=0.2)"
   ]
  },
  {
   "cell_type": "code",
   "execution_count": 13,
   "id": "2bfc9908-8fbb-45ed-b012-318f4b72040e",
   "metadata": {},
   "outputs": [],
   "source": [
    "def plot_model_hist(hist, feat='loss', figsize=(10, 6)):\n",
    "    plt.figure(figsize=figsize)\n",
    "    plt.plot(hist.index, hist[f'{feat}'], label='train')\n",
    "    plt.plot(hist.index, hist[f'val_{feat}'], label='valid')\n",
    "    plt.xlabel('epoch')\n",
    "    plt.ylabel(feat)\n",
    "    plt.legend()\n",
    "    plt.tight_layout()\n",
    "    plt.show()"
   ]
  },
  {
   "cell_type": "code",
   "execution_count": 14,
   "id": "16082b75-1d36-4fe7-ae58-9e54c2ee9191",
   "metadata": {},
   "outputs": [
    {
     "data": {
      "image/png": "[encoded data removed]",
      "text/plain": [
       "<Figure size 720x432 with 1 Axes>"
      ]
     },
     "metadata": {
      "needs_background": "light"
     },
     "output_type": "display_data"
    }
   ],
   "source": [
    "model_hist = pd.DataFrame(model.history.history)\n",
    "plot_model_hist(model_hist)"
   ]
  },
  {
   "cell_type": "code",
   "execution_count": 15,
   "id": "0c6771d4-6c51-4bcb-857c-78eaa3b9d208",
   "metadata": {},
   "outputs": [
    {
     "name": "stdout",
     "output_type": "stream",
     "text": [
      "12/12 [==============================] - 0s 2ms/step - loss: 84.0014\n",
      "5/5 [==============================] - 0s 1ms/step - loss: 67.0984\n",
      "MSE (train): 84.0014419555664 \n",
      "MSE (test): 67.098388671875\n"
     ]
    }
   ],
   "source": [
    "print('MSE (train):', model.evaluate(X_train, y_train),\n",
    "      '\\nMSE (test):', model.evaluate(X_test, y_test))"
   ]
  },
  {
   "cell_type": "code",
   "execution_count": null,
   "id": "c11c97ef-a7b2-458e-b952-a885fc835ef3",
   "metadata": {},
   "outputs": [],
   "source": []
  },
  {
   "cell_type": "code",
   "execution_count": 16,
   "id": "da86f2c5-3692-430d-a814-959d3f6d1799",
   "metadata": {},
   "outputs": [],
   "source": [
    "# Creating new y_train and y_test arrays based on model results:\n",
    "y_train_nn = model.predict(X_train)\n",
    "y_test_nn = model.predict(X_test)"
   ]
  },
  {
   "cell_type": "code",
   "execution_count": null,
   "id": "c730fa55-1c50-4851-818a-cb3ae05bb585",
   "metadata": {},
   "outputs": [],
   "source": []
  },
  {
   "cell_type": "markdown",
   "id": "393f6cba-0eca-4ff6-a08d-5627af23bfe9",
   "metadata": {},
   "source": [
    "## Training a Tree model"
   ]
  },
  {
   "cell_type": "code",
   "execution_count": 17,
   "id": "303889e7-116b-4870-982d-2d4df318ff96",
   "metadata": {},
   "outputs": [
    {
     "data": {
      "text/plain": [
       "RandomizedSearchCV(cv=10, estimator=DecisionTreeRegressor(), n_iter=30,\n",
       "                   n_jobs=4,\n",
       "                   param_distributions={'max_depth': [2, 3, 4],\n",
       "                                        'max_features': ['auto', 'sqrt'],\n",
       "                                        'min_samples_leaf': [1, 2, 4],\n",
       "                                        'min_samples_split': [2, 5, 10]},\n",
       "                   random_state=42, scoring='neg_mean_squared_error')"
      ]
     },
     "execution_count": 17,
     "metadata": {},
     "output_type": "execute_result"
    }
   ],
   "source": [
    "param_dist = {\"max_depth\": [2, 3, 4],\n",
    "             'max_features': ['auto', 'sqrt'],\n",
    "             'min_samples_leaf': [1, 2, 4],\n",
    "             'min_samples_split': [2, 5, 10]}\n",
    "\n",
    "clf = RandomizedSearchCV(DecisionTreeRegressor(), param_dist, random_state=42, n_jobs=4,\n",
    "                         n_iter=30, cv=10, scoring='neg_mean_squared_error')\n",
    "clf.fit(X_train, y_train_nn)"
   ]
  },
  {
   "cell_type": "code",
   "execution_count": 18,
   "id": "5a8d9064-0804-4ccd-9afc-a4314411ec55",
   "metadata": {},
   "outputs": [
    {
     "data": {
      "text/plain": [
       "DecisionTreeRegressor(max_depth=4, max_features='auto', min_samples_leaf=4,\n",
       "                      min_samples_split=10)"
      ]
     },
     "execution_count": 18,
     "metadata": {},
     "output_type": "execute_result"
    }
   ],
   "source": [
    "tree_regr = clf.best_estimator_\n",
    "tree_regr.fit(X_train, y_train_nn)"
   ]
  },
  {
   "cell_type": "code",
   "execution_count": 19,
   "id": "140b513c-f8fe-409b-a05f-64d0827c0ada",
   "metadata": {},
   "outputs": [],
   "source": [
    "y_pred_train_tree = tree_regr.predict(X_train)\n",
    "y_pred_test_tree = tree_regr.predict(X_test)"
   ]
  },
  {
   "cell_type": "code",
   "execution_count": 20,
   "id": "de76517c-783e-4da1-8f5c-9f00e277d943",
   "metadata": {},
   "outputs": [
    {
     "name": "stdout",
     "output_type": "stream",
     "text": [
      "MSE (train): 2.3051062619739056 MSE (test): 4.6323140961190425 \n",
      "MAE (train): 1.1151121867445688 MAE (test): 1.4776338425523157 \n",
      "EVS (train): 0.9367720097944053 EVS (test): 0.8867648541994622 \n",
      "R2 (train): 0.9367720113187619 R2 (test): 0.8857631612977932\n"
     ]
    }
   ],
   "source": [
    "print('MSE (train):', mean_squared_error(y_train_nn, y_pred_train_tree), 'MSE (test):', mean_squared_error(y_test_nn, y_pred_test_tree),\n",
    "      '\\nMAE (train):', mean_absolute_error(y_train_nn, y_pred_train_tree), 'MAE (test):', mean_absolute_error(y_test_nn, y_pred_test_tree),\n",
    "      '\\nEVS (train):', explained_variance_score(y_train_nn, y_pred_train_tree), 'EVS (test):', explained_variance_score(y_test_nn, y_pred_test_tree),\n",
    "      '\\nR2 (train):', r2_score(y_train_nn, y_pred_train_tree), 'R2 (test):', r2_score(y_test_nn, y_pred_test_tree))"
   ]
  },
  {
   "cell_type": "code",
   "execution_count": 21,
   "id": "22890406-4327-4554-83bc-b8d47a1fe9f9",
   "metadata": {},
   "outputs": [
    {
     "data": {
      "text/plain": [
       "['./models/tree_regr.joblib']"
      ]
     },
     "execution_count": 21,
     "metadata": {},
     "output_type": "execute_result"
    }
   ],
   "source": [
    "joblib.dump(tree_regr, './models/tree_regr.joblib')"
   ]
  },
  {
   "cell_type": "code",
   "execution_count": null,
   "id": "bcf63fff-21de-43e4-bfe1-ac8dd42d8cb8",
   "metadata": {},
   "outputs": [],
   "source": []
  },
  {
   "cell_type": "markdown",
   "id": "51f96388-733e-4b46-b0d2-1a8fee2c1cea",
   "metadata": {},
   "source": [
    "## Training a RF model"
   ]
  },
  {
   "cell_type": "code",
   "execution_count": 22,
   "id": "ddb87fa2-6908-495f-ba3a-21a81c50d2f7",
   "metadata": {},
   "outputs": [
    {
     "name": "stderr",
     "output_type": "stream",
     "text": [
      "C:\\Users\\weldl\\Miniconda3\\envs\\work\\lib\\site-packages\\sklearn\\model_selection\\_search.py:880: DataConversionWarning: A column-vector y was passed when a 1d array was expected. Please change the shape of y to (n_samples,), for example using ravel().\n",
      "  self.best_estimator_.fit(X, y, **fit_params)\n"
     ]
    },
    {
     "data": {
      "text/plain": [
       "RandomizedSearchCV(cv=10, estimator=RandomForestRegressor(), n_iter=30,\n",
       "                   n_jobs=4,\n",
       "                   param_distributions={'bootstrap': [True, False],\n",
       "                                        'max_depth': [2, 3, 4],\n",
       "                                        'max_features': ['auto', 'sqrt'],\n",
       "                                        'min_samples_leaf': [1, 2, 4],\n",
       "                                        'min_samples_split': [2, 5, 10],\n",
       "                                        'n_estimators': [1]},\n",
       "                   random_state=42, scoring='neg_mean_squared_error')"
      ]
     },
     "execution_count": 22,
     "metadata": {},
     "output_type": "execute_result"
    }
   ],
   "source": [
    "param_dist = {\"max_depth\": [2, 3, 4],\n",
    "              'max_features': ['auto', 'sqrt'],\n",
    "              'min_samples_leaf': [1, 2, 4],\n",
    "              'min_samples_split': [2, 5, 10],\n",
    "              \"n_estimators\": [1],\n",
    "              'bootstrap': [True, False],}\n",
    "\n",
    "clf = RandomizedSearchCV(RandomForestRegressor(), param_dist, random_state=42, n_jobs=4,\n",
    "                         n_iter=30, cv=10, scoring='neg_mean_squared_error')\n",
    "clf.fit(X_train, y_train_nn)"
   ]
  },
  {
   "cell_type": "code",
   "execution_count": 23,
   "id": "8da70c3c-7291-4a25-8e43-3631419f31a9",
   "metadata": {},
   "outputs": [
    {
     "name": "stderr",
     "output_type": "stream",
     "text": [
      "<ipython-input-23-e5666d3e7323>:2: DataConversionWarning: A column-vector y was passed when a 1d array was expected. Please change the shape of y to (n_samples,), for example using ravel().\n",
      "  rf_regr.fit(X_train, y_train_nn)\n"
     ]
    },
    {
     "data": {
      "text/plain": [
       "RandomForestRegressor(bootstrap=False, max_depth=3, min_samples_leaf=4,\n",
       "                      min_samples_split=5, n_estimators=1)"
      ]
     },
     "execution_count": 23,
     "metadata": {},
     "output_type": "execute_result"
    }
   ],
   "source": [
    "rf_regr = clf.best_estimator_\n",
    "rf_regr.fit(X_train, y_train_nn)"
   ]
  },
  {
   "cell_type": "code",
   "execution_count": 24,
   "id": "b68d44bb-3d2c-44a1-aeef-09bbfbb408a0",
   "metadata": {},
   "outputs": [],
   "source": [
    "y_pred_train_rf = rf_regr.predict(X_train)\n",
    "y_pred_test_rf = rf_regr.predict(X_test)"
   ]
  },
  {
   "cell_type": "code",
   "execution_count": 25,
   "id": "b5c9d42a-9162-4731-aa52-16822b6d1221",
   "metadata": {},
   "outputs": [
    {
     "name": "stdout",
     "output_type": "stream",
     "text": [
      "MSE (train): 3.6644361658426075 MSE (test): 5.9118409300354395 \n",
      "MAE (train): 1.45990150424658 MAE (test): 1.8672617010692765 \n",
      "EVS (train): 0.8994862242035999 EVS (test): 0.8553176731528791 \n",
      "R2 (train): 0.8994862266268753 R2 (test): 0.8542089321353723\n"
     ]
    }
   ],
   "source": [
    "print('MSE (train):', mean_squared_error(y_train_nn, y_pred_train_rf), 'MSE (test):', mean_squared_error(y_test_nn, y_pred_test_rf),\n",
    "      '\\nMAE (train):', mean_absolute_error(y_train_nn, y_pred_train_rf), 'MAE (test):', mean_absolute_error(y_test_nn, y_pred_test_rf),\n",
    "      '\\nEVS (train):', explained_variance_score(y_train_nn, y_pred_train_rf), 'EVS (test):', explained_variance_score(y_test_nn, y_pred_test_rf),\n",
    "      '\\nR2 (train):', r2_score(y_train_nn, y_pred_train_rf), 'R2 (test):', r2_score(y_test_nn, y_pred_test_rf))"
   ]
  },
  {
   "cell_type": "code",
   "execution_count": 26,
   "id": "1f9f4f7a-de1b-4712-a506-0213e7198da3",
   "metadata": {},
   "outputs": [
    {
     "data": {
      "text/plain": [
       "['./models/rf_regr.joblib']"
      ]
     },
     "execution_count": 26,
     "metadata": {},
     "output_type": "execute_result"
    }
   ],
   "source": [
    "joblib.dump(rf_regr, './models/rf_regr.joblib')"
   ]
  },
  {
   "cell_type": "code",
   "execution_count": null,
   "id": "2ea52aae-9923-4aad-93c2-3cd82b93b017",
   "metadata": {},
   "outputs": [],
   "source": []
  }
 ],
 "metadata": {
  "kernelspec": {
   "display_name": "Python 3",
   "language": "python",
   "name": "python3"
  },
  "language_info": {
   "codemirror_mode": {
    "name": "ipython",
    "version": 3
   },
   "file_extension": ".py",
   "mimetype": "text/x-python",
   "name": "python",
   "nbconvert_exporter": "python",
   "pygments_lexer": "ipython3",
   "version": "3.8.5"
  }
 },
 "nbformat": 4,
 "nbformat_minor": 5
}
